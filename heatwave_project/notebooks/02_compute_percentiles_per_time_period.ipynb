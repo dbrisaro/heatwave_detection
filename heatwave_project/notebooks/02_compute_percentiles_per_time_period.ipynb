{
 "cells": [
  {
   "cell_type": "code",
   "execution_count": 23,
   "id": "866a8a23",
   "metadata": {},
   "outputs": [
    {
     "data": {
      "text/plain": [
       "'\\nThis routine computes daily temperature percentiles (80th, 90th, and 95th) using a 30-year base period (1995-2024) for heatwave detection.\\n\\nDaniela Risaro\\nJuly 2025\\n'"
      ]
     },
     "execution_count": 23,
     "metadata": {},
     "output_type": "execute_result"
    }
   ],
   "source": [
    "'''\n",
    "This routine computes daily temperature percentiles (80th, 90th, and 95th) using a 30-year base period (1995-2024) for heatwave detection.\n",
    "\n",
    "Daniela Risaro\n",
    "July 2025\n",
    "'''\n"
   ]
  },
  {
   "cell_type": "code",
   "execution_count": 1,
   "id": "418eadc0",
   "metadata": {},
   "outputs": [],
   "source": [
    "import os\n",
    "import xarray as xr\n",
    "import numpy as np\n",
    "import pandas as pd \n"
   ]
  },
  {
   "cell_type": "code",
   "execution_count": 2,
   "id": "ced15a94",
   "metadata": {},
   "outputs": [],
   "source": [
    "length_clim = 30  # standard base period length for climatology\n",
    "\n",
    "def select_base_period(years):\n",
    "    candidates = [y for y in range(max(years) - (length_clim - 1), min(years) - 1, -1)\n",
    "                  if y % 5 == 0 or y % 10 == 0]\n",
    "    for start in candidates:\n",
    "        end = start + length_clim - 1\n",
    "        if all(y in years for y in range(start, end + 1)):\n",
    "            return start, end\n",
    "\n",
    "    possible_lengths = [l for l in [20, 10] if l < length_clim] or [10]\n",
    "    for length in possible_lengths:\n",
    "        candidates = [y for y in range(max(years) - length + 1, min(years) - 1, -1)\n",
    "                      if y % 5 == 0 or y % 10 == 0]\n",
    "        for start in candidates:\n",
    "            end = start + length - 1\n",
    "            if all(y in years for y in range(start, end + 1)):\n",
    "                return start, end\n",
    "\n",
    "    raise ValueError(\"No se encontró un periodo base válido con los años disponibles.\")\n",
    "\n",
    "\n",
    "def find_available_periods(years):\n",
    "    years = sorted(years)\n",
    "    available_periods = []\n",
    "\n",
    "    for start in range(min(years), max(years) - length_clim + 2):\n",
    "        if start % 5 == 0:\n",
    "            end = start + length_clim - 1\n",
    "            if all(y in years for y in range(start, end + 1)):\n",
    "                available_periods.append({\n",
    "                    'start': start,\n",
    "                    'end': end,\n",
    "                    'description': f\"{start}-{end}\"\n",
    "                })\n",
    "    return available_periods\n",
    "\n",
    "\n",
    "def select_base_period_interactive(years):\n",
    "    available_periods = find_available_periods(years)\n",
    "\n",
    "    if not available_periods:\n",
    "        raise ValueError(\"No se encontraron periodos de {} años válidos con los años disponibles.\".format(length_clim))\n",
    "\n",
    "    print(\"\\nPeriodos de {} años disponibles para el cálculo de la climatología:\".format(length_clim))\n",
    "    for i, period in enumerate(available_periods, 1):\n",
    "        print(f\"{i}. {period['description']}\")\n",
    "\n",
    "    while True:\n",
    "        try:\n",
    "            choice = int(input(\"\\nSeleccione el número del periodo que desea usar: \")) - 1\n",
    "            if 0 <= choice < len(available_periods):\n",
    "                selected = available_periods[choice]\n",
    "                return selected['start'], selected['end']\n",
    "            else:\n",
    "                print(\"Por favor, seleccione un número válido de la lista.\")\n",
    "        except ValueError:\n",
    "            print(\"Por favor, ingrese un número válido.\")\n"
   ]
  },
  {
   "cell_type": "code",
   "execution_count": 3,
   "id": "40afa199",
   "metadata": {},
   "outputs": [],
   "source": [
    "data_dir = \"../data/raw/\"\n",
    "output_dir = \"../data/processed/\"\n",
    "\n",
    "os.makedirs(output_dir, exist_ok=True)\n",
    "\n",
    "## read files \n",
    "variable = \"tmax\"\n",
    "region = [6, -74, -34, -33]  # [lat_max, lon_max, lat_min, lon_min]\n",
    "files = sorted([file for file in os.listdir(data_dir) if file.endswith(\".nc\") and variable in file and all(str(abs(coord)) in file for coord in region)])\n",
    "\n",
    "years_from_files = sorted([int(file.split(\"_\")[3].split(\".\")[0]) for file in files])\n"
   ]
  },
  {
   "cell_type": "code",
   "execution_count": 4,
   "id": "9673bfbb",
   "metadata": {},
   "outputs": [
    {
     "name": "stdout",
     "output_type": "stream",
     "text": [
      "\n",
      "Años disponibles: 1995-2025\n",
      "\n",
      "Periodos de 30 años disponibles para el cálculo de la climatología:\n",
      "1. 1995-2024\n",
      "\n",
      "Periodo base seleccionado para climatología: 1995-2024\n"
     ]
    }
   ],
   "source": [
    "\n",
    "print(f\"\\nAños disponibles: {min(years_from_files)}-{max(years_from_files)}\")\n",
    "start_year, end_year = select_base_period_interactive(years_from_files)\n",
    "print(f\"\\nPeriodo base seleccionado para climatología: {start_year}-{end_year}\")"
   ]
  },
  {
   "cell_type": "code",
   "execution_count": 5,
   "id": "179b84da",
   "metadata": {},
   "outputs": [],
   "source": [
    "import re\n",
    "\n",
    "base_files = [\n",
    "    f for f in files\n",
    "    if (m := re.search(r'(19|20)\\d{2}', f)) and start_year <= int(m.group()) <= end_year\n",
    "]\n"
   ]
  },
  {
   "cell_type": "code",
   "execution_count": 6,
   "id": "3b0f202f",
   "metadata": {},
   "outputs": [
    {
     "name": "stdout",
     "output_type": "stream",
     "text": [
      "Archivo guardado: ../data/processed/tmax2m_mean_and_percentiles_1995_2024_area_6N_-74W_-34S_-33E.nc\n"
     ]
    }
   ],
   "source": [
    "## open and concatenate files \n",
    "datasets = [xr.open_dataset(data_dir + f).squeeze(\"number\", drop=True) if \"number\" in xr.open_dataset(data_dir + f).dims else xr.open_dataset(data_dir + f) for f in base_files]\n",
    "\n",
    "combined = xr.concat(datasets, dim=\"valid_time\")\n",
    "combined[\"valid_time\"] = pd.to_datetime(combined[\"valid_time\"].values)\n",
    "\n",
    "t2m_celsius = combined[\"t2m\"] - 273.15\n",
    "percentiles = [80, 90, 95, 98, 99]\n",
    "percentile_vars = {}\n",
    "\n",
    "for p in percentiles:\n",
    "    t2m_p = (\n",
    "        t2m_celsius\n",
    "        .reduce(np.percentile, q=p, dim=\"valid_time\")\n",
    "        .squeeze()\n",
    "    )\n",
    "    t2m_p.name = f\"t2m_p{p}\"\n",
    "    t2m_p.attrs[\"long_name\"] = f\"{p}th percentile of daily maximum 2m air temperature for period {start_year}-{end_year}\"\n",
    "    t2m_p.attrs[\"units\"] = \"degrees Celsius\"\n",
    "    percentile_vars[f\"t2m_p{p}\"] = t2m_p\n",
    "\n",
    "t2m_mean = (\n",
    "    t2m_celsius\n",
    "    .mean(dim=\"valid_time\")\n",
    "    .squeeze()\n",
    ")\n",
    "t2m_mean.name = \"t2m_mean\"\n",
    "t2m_mean.attrs[\"long_name\"] = \"Mean daily maximum 2m air temperature\"\n",
    "t2m_mean.attrs[\"units\"] = \"degrees Celsius\"\n",
    "\n",
    "percentile_vars[\"t2m_mean\"] = t2m_mean\n",
    "\n",
    "ds_out = xr.Dataset(percentile_vars)\n",
    "ds_out.attrs[\"period\"] = f\"{start_year}-{end_year}\"\n",
    "ds_out.attrs[\"source\"] = \"ERA5 daily statistics (analysis), downloaded via CDS API\"\n",
    "\n",
    "\n",
    "variable = \"tmax\"\n",
    "region = [6, -74, -34, -33] \n",
    "\n",
    "out_path = os.path.join(output_dir, f\"tmax2m_mean_and_percentiles_{start_year}_{end_year}_area_{region[0]}N_{region[1]}W_{region[2]}S_{region[3]}E.nc\")\n",
    "ds_out.to_netcdf(out_path)\n",
    "print(f\"Archivo guardado: {out_path}\")"
   ]
  }
 ],
 "metadata": {
  "kernelspec": {
   "display_name": "climate-gdal-env",
   "language": "python",
   "name": "python3"
  },
  "language_info": {
   "codemirror_mode": {
    "name": "ipython",
    "version": 3
   },
   "file_extension": ".py",
   "mimetype": "text/x-python",
   "name": "python",
   "nbconvert_exporter": "python",
   "pygments_lexer": "ipython3",
   "version": "3.12.12"
  }
 },
 "nbformat": 4,
 "nbformat_minor": 5
}
