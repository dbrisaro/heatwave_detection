{
 "cells": [
  {
   "cell_type": "code",
   "execution_count": null,
   "id": "866a8a23",
   "metadata": {},
   "outputs": [],
   "source": [
    "'''\n",
    "This routine computes daily temperature percentiles (80th, 90th, and 95th) using a 30-year base period (1995-2024) for heatwave detection.\n",
    "\n",
    "Daniela Risaro\n",
    "July 2025\n",
    "'''\n"
   ]
  },
  {
   "cell_type": "code",
   "execution_count": 1,
   "id": "418eadc0",
   "metadata": {},
   "outputs": [],
   "source": [
    "import os\n",
    "import xarray as xr\n",
    "import numpy as np\n",
    "import pandas as pd \n"
   ]
  },
  {
   "cell_type": "code",
   "execution_count": 3,
   "id": "ced15a94",
   "metadata": {},
   "outputs": [],
   "source": [
    "def select_base_period(years):\n",
    "    candidates = [y for y in range(max(years)-29, min(years)-1, -1) if y % 5 == 0 or y % 10 == 0]\n",
    "    for start in candidates:\n",
    "        end = start + 29\n",
    "        if all(y in years for y in range(start, end + 1)):\n",
    "            return start, end\n",
    "    for length in [20, 10]:\n",
    "        candidates = [y for y in range(max(years)-length+1, min(years)-1, -1) if y % 5 == 0 or y % 10 == 0]\n",
    "        for start in candidates:\n",
    "            end = start + length - 1\n",
    "            if all(y in years for y in range(start, end + 1)):\n",
    "                return start, end\n",
    "    raise ValueError(\"No se encontró un periodo base válido con los años disponibles.\")\n",
    "\n",
    "def find_available_periods(years):\n",
    "    years = sorted(years)\n",
    "    available_periods = []\n",
    "    \n",
    "    # Find 30-year periods starting in years ending in 0 or 5\n",
    "    for start in range(min(years), max(years) - 28):\n",
    "        if start % 5 == 0:  # Only years ending in 0 or 5\n",
    "            end = start + 29\n",
    "            if all(y in years for y in range(start, end + 1)):\n",
    "                available_periods.append({\n",
    "                    'start': start,\n",
    "                    'end': end,\n",
    "                    'description': f\"{start}-{end}\"\n",
    "                })\n",
    "    \n",
    "    return available_periods\n",
    "\n",
    "def select_base_period_interactive(years):\n",
    "    available_periods = find_available_periods(years)\n",
    "    \n",
    "    if not available_periods:\n",
    "        raise ValueError(\"No se encontraron periodos de 30 años válidos con los años disponibles.\")\n",
    "    \n",
    "    print(\"\\nPeriodos de 30 años disponibles para el cálculo de la climatología:\")\n",
    "    for i, period in enumerate(available_periods, 1):\n",
    "        print(f\"{i}. {period['description']}\")\n",
    "    \n",
    "    while True:\n",
    "        try:\n",
    "            choice = int(input(\"\\nSeleccione el número del periodo que desea usar: \")) - 1\n",
    "            if 0 <= choice < len(available_periods):\n",
    "                selected = available_periods[choice]\n",
    "                return selected['start'], selected['end']\n",
    "            else:\n",
    "                print(\"Por favor, seleccione un número válido de la lista.\")\n",
    "        except ValueError:\n",
    "            print(\"Por favor, ingrese un número válido.\")\n",
    "\n"
   ]
  },
  {
   "cell_type": "code",
   "execution_count": 4,
   "id": "40afa199",
   "metadata": {},
   "outputs": [
    {
     "name": "stdout",
     "output_type": "stream",
     "text": [
      "\n",
      "Años disponibles: 1960-2025\n",
      "\n",
      "Periodos de 30 años disponibles para el cálculo de la climatología:\n",
      "1. 1960-1989\n",
      "2. 1965-1994\n",
      "3. 1970-1999\n",
      "4. 1975-2004\n",
      "5. 1980-2009\n",
      "6. 1985-2014\n",
      "7. 1990-2019\n",
      "8. 1995-2024\n",
      "\n",
      "Periodo base seleccionado para climatología: 1960-1989\n"
     ]
    }
   ],
   "source": [
    "data_dir = \"../data/raw/\"\n",
    "output_dir = \"../data/processed/\"\n",
    "\n",
    "os.makedirs(output_dir, exist_ok=True)\n",
    "\n",
    "## read files \n",
    "files = sorted([file for file in os.listdir(data_dir) if file.endswith(\".nc\")])\n",
    "years_from_files = sorted([int(file.split(\"_\")[3].split(\".\")[0]) for file in files])\n",
    "\n",
    "print(f\"\\nAños disponibles: {min(years_from_files)}-{max(years_from_files)}\")\n",
    "start_year, end_year = select_base_period_interactive(years_from_files)\n",
    "print(f\"\\nPeriodo base seleccionado para climatología: {start_year}-{end_year}\")\n"
   ]
  },
  {
   "cell_type": "code",
   "execution_count": 5,
   "id": "e3ef094a",
   "metadata": {},
   "outputs": [],
   "source": [
    "## open and concatenate files \n",
    "base_files = [f for f in files if start_year <= int(f.split(\"_\")[-1].split(\".\")[0]) <= end_year]\n",
    "datasets = [xr.open_dataset(data_dir + f).squeeze(\"number\", drop=True) if \"number\" in xr.open_dataset(data_dir + f).dims else xr.open_dataset(data_dir + f) for f in base_files]\n",
    "\n",
    "combined = xr.concat(datasets, dim=\"valid_time\")\n",
    "combined[\"valid_time\"] = pd.to_datetime(combined[\"valid_time\"].values)\n"
   ]
  },
  {
   "cell_type": "code",
   "execution_count": 6,
   "id": "3b0f202f",
   "metadata": {},
   "outputs": [],
   "source": [
    "# compute percentiles \n",
    "combined[\"doy\"] = combined[\"valid_time\"].dt.dayofyear\n",
    "\n",
    "t2m_celsius = combined[\"t2m\"] - 273.15\n",
    "t2m_celsius = t2m_celsius.assign_coords(doy=(\"valid_time\", combined[\"doy\"].values))\n",
    "percentiles = [80, 90, 95]\n",
    "percentile_vars = {}\n",
    "\n",
    "for p in percentiles:\n",
    "    t2m_p = (\n",
    "        t2m_celsius\n",
    "        .groupby(\"doy\")\n",
    "        .reduce(np.percentile, q=p, dim=\"valid_time\")\n",
    "        .squeeze()\n",
    "    )\n",
    "    t2m_p.name = f\"t2m_p{p}\"\n",
    "    t2m_p.attrs[\"long_name\"] = f\"{p}th percentile of daily maximum 2m air temperature\"\n",
    "    t2m_p.attrs[\"units\"] = \"degrees Celsius\"\n",
    "    percentile_vars[f\"t2m_p{p}\"] = t2m_p\n",
    "\n",
    "t2m_mean = (\n",
    "    t2m_celsius\n",
    "    .groupby(\"doy\")\n",
    "    .mean(dim=\"valid_time\")\n",
    "    .squeeze()\n",
    ")\n",
    "t2m_mean.name = \"t2m_mean\"\n",
    "t2m_mean.attrs[\"long_name\"] = \"Mean daily maximum 2m air temperature\"\n",
    "t2m_mean.attrs[\"units\"] = \"degrees Celsius\"\n",
    "\n",
    "percentile_vars[\"t2m_mean\"] = t2m_mean\n",
    "\n",
    "ds_out = xr.Dataset(percentile_vars)\n",
    "ds_out.attrs[\"period\"] = f\"{start_year}-{end_year}\"\n",
    "ds_out.attrs[\"source\"] = \"ERA5 daily statistics (analysis), downloaded via CDS API\"\n",
    "\n"
   ]
  },
  {
   "cell_type": "code",
   "execution_count": 7,
   "id": "c2a9ccd2",
   "metadata": {},
   "outputs": [
    {
     "name": "stdout",
     "output_type": "stream",
     "text": [
      "Archivo guardado: ../data/processed/tmax2m_mean_and_percentiles_1960_1989.nc\n"
     ]
    }
   ],
   "source": [
    "\n",
    "out_path = os.path.join(output_dir, f\"tmax2m_mean_and_percentiles_{start_year}_{end_year}.nc\")\n",
    "ds_out.to_netcdf(out_path)\n",
    "print(f\"Archivo guardado: {out_path}\")"
   ]
  }
 ],
 "metadata": {
  "kernelspec": {
   "display_name": "climate-gdal-env",
   "language": "python",
   "name": "python3"
  },
  "language_info": {
   "codemirror_mode": {
    "name": "ipython",
    "version": 3
   },
   "file_extension": ".py",
   "mimetype": "text/x-python",
   "name": "python",
   "nbconvert_exporter": "python",
   "pygments_lexer": "ipython3",
   "version": "3.9.22"
  }
 },
 "nbformat": 4,
 "nbformat_minor": 5
}
