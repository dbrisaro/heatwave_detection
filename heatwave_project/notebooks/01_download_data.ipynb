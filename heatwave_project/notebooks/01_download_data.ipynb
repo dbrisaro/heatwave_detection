{
 "cells": [
  {
   "cell_type": "code",
   "execution_count": 2,
   "id": "f5fb5c10",
   "metadata": {},
   "outputs": [
    {
     "data": {
      "text/plain": [
       "'\\nThis routine downloads ERA5 daily maximum temperature data using the Climate Data Store (CDS) API for the study region (5°N-45°N, 95°W-65°W).\\n\\nDaniela Risaro\\nJuly 2025\\n'"
      ]
     },
     "execution_count": 2,
     "metadata": {},
     "output_type": "execute_result"
    }
   ],
   "source": [
    "'''\n",
    "This routine downloads ERA5 daily maximum temperature data using the Climate Data Store (CDS) API for the study region (5°N-45°N, 95°W-65°W).\n",
    "\n",
    "Daniela Risaro\n",
    "July 2025\n",
    "'''"
   ]
  },
  {
   "cell_type": "markdown",
   "id": "a6a54fc1",
   "metadata": {
    "vscode": {
     "languageId": "raw"
    }
   },
   "source": [
    "# Descarga de datos ERA5\n",
    "\n",
    "Este notebook descarga datos de temperatura máxima diaria del ERA5 usando la API de CDS (Climate Data Store)\n"
   ]
  },
  {
   "cell_type": "code",
   "execution_count": null,
   "id": "0feb06a7",
   "metadata": {},
   "outputs": [
    {
     "name": "stderr",
     "output_type": "stream",
     "text": [
      "2025-07-25 18:42:08,509 INFO [2024-09-26T00:00:00] Watch our [Forum](https://forum.ecmwf.int/) for Announcements, news and other discussed topics.\n"
     ]
    },
    {
     "name": "stdout",
     "output_type": "stream",
     "text": [
      "File already exists: ../data/raw/era5_tmax_daily_1970.nc\n",
      "Requesting data for 1971...\n"
     ]
    },
    {
     "name": "stderr",
     "output_type": "stream",
     "text": [
      "2025-07-25 18:42:09,699 INFO Request ID is e96f83ed-d749-465e-ac86-b0b8ba1fdd44\n",
      "2025-07-25 18:42:09,998 INFO status has been updated to accepted\n",
      "2025-07-25 18:42:32,779 INFO status has been updated to running\n",
      "2025-07-25 19:02:18,656 INFO status has been updated to successful\n",
      "Recovering from connection error [HTTPSConnectionPool(host='object-store.os-api.cci2.ecmwf.int', port=443): Read timed out.], attempt 1 of 500\n",
      "Retrying in 120 seconds\n",
      "                                                                                         \r"
     ]
    },
    {
     "name": "stdout",
     "output_type": "stream",
     "text": [
      "Downloaded: ../data/raw/era5_tmax_daily_1971.nc\n",
      "Requesting data for 1972...\n"
     ]
    },
    {
     "name": "stderr",
     "output_type": "stream",
     "text": [
      "Recovering from connection error [('Connection aborted.', TimeoutError(60, 'Operation timed out'))], attempt 1 of 500\n",
      "Retrying in 120 seconds\n",
      "2025-07-25 19:17:09,645 INFO Request ID is ad776482-8e9f-44be-a13a-02b58cbf79ca\n",
      "2025-07-25 19:17:09,961 INFO status has been updated to accepted\n",
      "2025-07-25 19:17:32,628 INFO status has been updated to running\n",
      "2025-07-25 19:29:37,286 INFO status has been updated to successful\n",
      "                                                                                         \r"
     ]
    },
    {
     "name": "stdout",
     "output_type": "stream",
     "text": [
      "Downloaded: ../data/raw/era5_tmax_daily_1972.nc\n",
      "Requesting data for 1973...\n"
     ]
    },
    {
     "name": "stderr",
     "output_type": "stream",
     "text": [
      "2025-07-25 19:29:44,635 INFO Request ID is d0c05e6b-395e-42b7-bbc9-d55cf0e681f9\n",
      "2025-07-25 19:29:44,945 INFO status has been updated to accepted\n",
      "2025-07-25 19:29:59,755 INFO status has been updated to running\n",
      "2025-07-25 19:42:11,787 INFO status has been updated to successful\n",
      "                                                                                         \r"
     ]
    },
    {
     "name": "stdout",
     "output_type": "stream",
     "text": [
      "Downloaded: ../data/raw/era5_tmax_daily_1973.nc\n",
      "Requesting data for 1974...\n"
     ]
    },
    {
     "name": "stderr",
     "output_type": "stream",
     "text": [
      "2025-07-25 19:42:19,393 INFO Request ID is ada22226-d797-4aa1-9142-4f180d449f91\n",
      "2025-07-25 19:42:19,721 INFO status has been updated to accepted\n",
      "2025-07-25 19:42:34,598 INFO status has been updated to running\n",
      "2025-07-25 19:54:46,056 INFO status has been updated to successful\n",
      "                                                                                         \r"
     ]
    },
    {
     "name": "stdout",
     "output_type": "stream",
     "text": [
      "Downloaded: ../data/raw/era5_tmax_daily_1974.nc\n",
      "Requesting data for 1975...\n"
     ]
    },
    {
     "name": "stderr",
     "output_type": "stream",
     "text": [
      "2025-07-25 19:54:53,434 INFO Request ID is 41894018-9e9b-4a58-be76-4d36e6eda025\n",
      "2025-07-25 19:54:53,730 INFO status has been updated to accepted\n",
      "2025-07-25 19:56:50,153 INFO status has been updated to running\n",
      "Recovering from connection error [HTTPSConnectionPool(host='cds.climate.copernicus.eu', port=443): Read timed out. (read timeout=60)], attempt 1 of 500\n",
      "Retrying in 120 seconds\n",
      "2025-07-25 20:10:09,573 INFO status has been updated to successful\n",
      "                                                                                         \r"
     ]
    },
    {
     "name": "stdout",
     "output_type": "stream",
     "text": [
      "Downloaded: ../data/raw/era5_tmax_daily_1975.nc\n",
      "Requesting data for 1976...\n"
     ]
    },
    {
     "name": "stderr",
     "output_type": "stream",
     "text": [
      "2025-07-25 20:10:25,671 INFO Request ID is 4588201a-dff7-4991-b9fe-2c965eb8cd72\n",
      "2025-07-25 20:10:26,133 INFO status has been updated to accepted\n",
      "2025-07-25 20:10:35,619 INFO status has been updated to running\n",
      "2025-07-25 20:24:54,320 INFO status has been updated to successful\n",
      "                                                                                        \r"
     ]
    },
    {
     "name": "stdout",
     "output_type": "stream",
     "text": [
      "Downloaded: ../data/raw/era5_tmax_daily_1976.nc\n",
      "Requesting data for 1977...\n"
     ]
    },
    {
     "name": "stderr",
     "output_type": "stream",
     "text": [
      "2025-07-25 20:25:02,629 INFO Request ID is a33466b8-d0c8-4759-864b-2f0fd40e162c\n",
      "2025-07-25 20:25:02,933 INFO status has been updated to accepted\n",
      "2025-07-25 20:25:25,661 INFO status has been updated to running\n",
      "2025-07-25 20:37:29,390 INFO status has been updated to successful\n",
      "                                                                                         \r"
     ]
    },
    {
     "name": "stdout",
     "output_type": "stream",
     "text": [
      "Downloaded: ../data/raw/era5_tmax_daily_1977.nc\n",
      "Requesting data for 1978...\n"
     ]
    },
    {
     "name": "stderr",
     "output_type": "stream",
     "text": [
      "2025-07-25 20:37:37,199 INFO Request ID is 15ac1991-5607-4673-923c-628fc6e92936\n",
      "2025-07-25 20:37:37,527 INFO status has been updated to accepted\n",
      "2025-07-25 20:37:46,914 INFO status has been updated to running\n",
      "2025-07-25 20:50:03,615 INFO status has been updated to successful\n",
      "                                                                                         \r"
     ]
    },
    {
     "name": "stdout",
     "output_type": "stream",
     "text": [
      "Downloaded: ../data/raw/era5_tmax_daily_1978.nc\n",
      "Requesting data for 1979...\n"
     ]
    },
    {
     "name": "stderr",
     "output_type": "stream",
     "text": [
      "2025-07-25 20:50:10,720 INFO Request ID is e604b16a-b8ac-46b6-b2cc-fd3e7389466f\n",
      "2025-07-25 20:50:11,054 INFO status has been updated to accepted\n",
      "2025-07-25 20:50:25,915 INFO status has been updated to running\n",
      "2025-07-25 21:02:37,575 INFO status has been updated to successful\n",
      "                                                                                         "
     ]
    },
    {
     "name": "stdout",
     "output_type": "stream",
     "text": [
      "Downloaded: ../data/raw/era5_tmax_daily_1979.nc\n",
      "File already exists: ../data/raw/era5_tmax_daily_1980.nc\n"
     ]
    },
    {
     "name": "stderr",
     "output_type": "stream",
     "text": [
      "\r"
     ]
    }
   ],
   "source": [
    "import cdsapi\n",
    "import os\n",
    "\n",
    "client = cdsapi.Client()\n",
    "\n",
    "dataset = \"derived-era5-single-levels-daily-statistics\"\n",
    "\n",
    "\n",
    "variable = [\"2m_temperature\"]\n",
    "statistic = \"daily_maximum\"\n",
    "time_zone = \"utc-05:00\"  # must be lowercase\n",
    "frequency = \"1_hourly\"\n",
    "area = [45, -95, 5, -65]\n",
    "days_all = [\n",
    "    \"01\", \"02\", \"03\", \"04\", \"05\", \"06\",\n",
    "    \"07\", \"08\", \"09\", \"10\", \"11\", \"12\",\n",
    "    \"13\", \"14\", \"15\", \"16\", \"17\", \"18\",\n",
    "    \"19\", \"20\", \"21\", \"22\", \"23\", \"24\",\n",
    "    \"25\", \"26\", \"27\", \"28\", \"29\", \"30\", \"31\"\n",
    "]\n",
    "months_all = [\"01\", \"02\", \"03\", \"04\", \"05\", \"06\", \"07\", \"08\", \"09\", \"10\", \"11\", \"12\"]\n",
    "months_to_july = [\"01\", \"02\", \"03\", \"04\", \"05\", \"06\", \"07\"]\n",
    "\n",
    "output_dir = \"../data/raw/\"\n",
    "os.makedirs(output_dir, exist_ok=True)\n",
    "\n",
    "for year in range(1970, 1981):\n",
    "    year_str = str(year)\n",
    "\n",
    "    if year == 2025:\n",
    "        months = months_to_july\n",
    "    else:\n",
    "        months = months_all\n",
    "\n",
    "    filename = os.path.join(output_dir, f\"era5_tmax_daily_{year_str}.nc\")\n",
    "\n",
    "    if os.path.exists(filename):\n",
    "        print(f\"File already exists: {filename}\")\n",
    "        continue\n",
    "\n",
    "    print(f\"Requesting data for {year}...\")\n",
    "\n",
    "    request = {\n",
    "        \"product_type\": \"reanalysis\",\n",
    "        \"variable\": variable,\n",
    "        \"year\": year_str,\n",
    "        \"month\": months,\n",
    "        \"day\": days_all,\n",
    "        \"daily_statistic\": statistic,\n",
    "        \"time_zone\": time_zone,\n",
    "        \"frequency\": frequency,\n",
    "        \"area\": area,\n",
    "        \"format\": \"netcdf\"\n",
    "    }\n",
    "\n",
    "    try:\n",
    "        client.retrieve(dataset, request).download(filename)\n",
    "        print(f\"Downloaded: {filename}\")\n",
    "    except Exception as e:\n",
    "        print(f\"Error for {year}: {e}\")\n"
   ]
  },
  {
   "cell_type": "code",
   "execution_count": 2,
   "id": "50af1412",
   "metadata": {},
   "outputs": [
    {
     "name": "stderr",
     "output_type": "stream",
     "text": [
      "2025-08-05 11:02:00,869 INFO [2024-09-26T00:00:00] Watch our [Forum](https://forum.ecmwf.int/) for Announcements, news and other discussed topics.\n"
     ]
    },
    {
     "name": "stdout",
     "output_type": "stream",
     "text": [
      "Requesting data for 2015...\n"
     ]
    },
    {
     "name": "stderr",
     "output_type": "stream",
     "text": [
      "2025-08-05 11:02:02,182 INFO Request ID is 5b3b0d25-0b54-447c-a7aa-4cb2e126d911\n",
      "2025-08-05 11:02:02,546 INFO status has been updated to accepted\n",
      "2025-08-05 11:16:29,980 INFO status has been updated to running\n",
      "2025-08-05 11:28:35,544 INFO status has been updated to successful\n",
      "                                                                                         \r"
     ]
    },
    {
     "name": "stdout",
     "output_type": "stream",
     "text": [
      "Downloaded: ../data/raw/era5_total_precipitation_daily_2015.nc\n",
      "Requesting data for 2016...\n"
     ]
    },
    {
     "name": "stderr",
     "output_type": "stream",
     "text": [
      "2025-08-05 11:28:43,749 INFO Request ID is d0143f86-31a9-402d-aa18-7870476b18b4\n",
      "2025-08-05 11:28:44,056 INFO status has been updated to accepted\n",
      "2025-08-05 11:28:53,538 INFO status has been updated to running\n",
      "2025-08-05 11:43:11,517 INFO status has been updated to successful\n",
      "                                                                                        \r"
     ]
    },
    {
     "name": "stdout",
     "output_type": "stream",
     "text": [
      "Downloaded: ../data/raw/era5_total_precipitation_daily_2016.nc\n",
      "Requesting data for 2017...\n"
     ]
    },
    {
     "name": "stderr",
     "output_type": "stream",
     "text": [
      "2025-08-05 11:43:18,402 INFO Request ID is ef0c9243-446a-4961-947c-07bccc53b423\n",
      "2025-08-05 11:43:18,703 INFO status has been updated to accepted\n",
      "2025-08-05 11:43:24,366 INFO status has been updated to running\n",
      "2025-08-05 12:07:50,632 INFO status has been updated to successful\n",
      "                                                                                        \r"
     ]
    },
    {
     "name": "stdout",
     "output_type": "stream",
     "text": [
      "Downloaded: ../data/raw/era5_total_precipitation_daily_2017.nc\n",
      "Requesting data for 2018...\n"
     ]
    },
    {
     "name": "stderr",
     "output_type": "stream",
     "text": [
      "2025-08-05 12:08:10,336 INFO Request ID is 1e14a8d2-25a6-4054-aee4-7937de9d934a\n",
      "2025-08-05 12:08:10,689 INFO status has been updated to accepted\n",
      "2025-08-05 12:08:20,224 INFO status has been updated to running\n",
      "2025-08-05 12:22:38,114 INFO status has been updated to successful\n",
      "                                                                                         \r"
     ]
    },
    {
     "name": "stdout",
     "output_type": "stream",
     "text": [
      "Downloaded: ../data/raw/era5_total_precipitation_daily_2018.nc\n",
      "Requesting data for 2019...\n"
     ]
    },
    {
     "name": "stderr",
     "output_type": "stream",
     "text": [
      "2025-08-05 12:22:46,234 INFO Request ID is 096b5d31-a3e8-491c-876c-77d3f2b0511f\n",
      "2025-08-05 12:22:46,538 INFO status has been updated to accepted\n",
      "2025-08-05 12:24:04,213 INFO status has been updated to running\n",
      "Recovering from connection error [('Connection aborted.', ConnectionResetError(54, 'Connection reset by peer'))], attempt 1 of 500\n",
      "Retrying in 120 seconds\n",
      "2025-08-05 12:37:13,240 INFO status has been updated to successful\n",
      "                                                                                         \r"
     ]
    },
    {
     "name": "stdout",
     "output_type": "stream",
     "text": [
      "Downloaded: ../data/raw/era5_total_precipitation_daily_2019.nc\n",
      "Requesting data for 2020...\n"
     ]
    },
    {
     "name": "stderr",
     "output_type": "stream",
     "text": [
      "2025-08-05 12:37:20,720 INFO Request ID is 1a4e0f65-e119-410b-802d-b4dc462db7d4\n",
      "2025-08-05 12:37:21,019 INFO status has been updated to accepted\n",
      "2025-08-05 12:38:12,775 INFO status has been updated to running\n",
      "2025-08-05 12:51:48,882 INFO status has been updated to successful\n",
      "                                                                                         \r"
     ]
    },
    {
     "name": "stdout",
     "output_type": "stream",
     "text": [
      "Downloaded: ../data/raw/era5_total_precipitation_daily_2020.nc\n",
      "Requesting data for 2021...\n"
     ]
    },
    {
     "name": "stderr",
     "output_type": "stream",
     "text": [
      "2025-08-05 12:51:57,041 INFO Request ID is 7eddb0e5-0efc-448e-84a6-d8cc0d8c2f17\n",
      "2025-08-05 12:51:57,351 INFO status has been updated to accepted\n",
      "2025-08-05 12:52:49,098 INFO status has been updated to running\n",
      "2025-08-05 13:06:24,432 INFO status has been updated to successful\n",
      "                                                                                         \r"
     ]
    },
    {
     "name": "stdout",
     "output_type": "stream",
     "text": [
      "Downloaded: ../data/raw/era5_total_precipitation_daily_2021.nc\n",
      "Requesting data for 2022...\n"
     ]
    },
    {
     "name": "stderr",
     "output_type": "stream",
     "text": [
      "2025-08-05 13:06:31,860 INFO Request ID is 498573d2-9c9c-42ec-9821-72ed4d7ac023\n",
      "2025-08-05 13:06:32,506 INFO status has been updated to accepted\n",
      "2025-08-05 13:07:06,842 INFO status has been updated to running\n",
      "2025-08-05 13:21:00,267 INFO status has been updated to successful\n",
      "                                                                                         \r"
     ]
    },
    {
     "name": "stdout",
     "output_type": "stream",
     "text": [
      "Downloaded: ../data/raw/era5_total_precipitation_daily_2022.nc\n",
      "Requesting data for 2023...\n"
     ]
    },
    {
     "name": "stderr",
     "output_type": "stream",
     "text": [
      "2025-08-05 13:21:09,007 INFO Request ID is c093379b-5303-4a2e-9aa2-b19013903a4f\n",
      "2025-08-05 13:21:09,364 INFO status has been updated to accepted\n",
      "2025-08-05 13:21:44,535 INFO status has been updated to running\n",
      "2025-08-05 13:35:38,053 INFO status has been updated to successful\n",
      "                                                                                         \r"
     ]
    },
    {
     "name": "stdout",
     "output_type": "stream",
     "text": [
      "Downloaded: ../data/raw/era5_total_precipitation_daily_2023.nc\n",
      "Requesting data for 2024...\n"
     ]
    },
    {
     "name": "stderr",
     "output_type": "stream",
     "text": [
      "2025-08-05 13:35:45,563 INFO Request ID is b8efd784-6091-4362-8936-8346052fb564\n",
      "2025-08-05 13:35:45,880 INFO status has been updated to accepted\n",
      "2025-08-05 13:35:55,316 INFO status has been updated to running\n",
      "2025-08-05 13:48:12,265 INFO status has been updated to successful\n",
      "                                                                                         \r"
     ]
    },
    {
     "name": "stdout",
     "output_type": "stream",
     "text": [
      "Downloaded: ../data/raw/era5_total_precipitation_daily_2024.nc\n",
      "Requesting data for 2025...\n"
     ]
    },
    {
     "name": "stderr",
     "output_type": "stream",
     "text": [
      "2025-08-05 13:48:19,315 INFO Request ID is b949fba3-45ad-4e28-9c06-a05e8dccd148\n",
      "2025-08-05 13:48:19,621 INFO status has been updated to accepted\n",
      "2025-08-05 13:48:34,573 INFO status has been updated to running\n",
      "2025-08-05 13:56:44,527 INFO status has been updated to successful\n",
      "                                                                                        "
     ]
    },
    {
     "name": "stdout",
     "output_type": "stream",
     "text": [
      "Downloaded: ../data/raw/era5_total_precipitation_daily_2025.nc\n"
     ]
    },
    {
     "name": "stderr",
     "output_type": "stream",
     "text": [
      "\r"
     ]
    }
   ],
   "source": [
    "## in this part of the code i will download another variable, which is humidty or precipitation. \n",
    "import cdsapi\n",
    "import os\n",
    "\n",
    "client = cdsapi.Client()\n",
    "\n",
    "dataset = \"derived-era5-single-levels-daily-statistics\"\n",
    "\n",
    "\n",
    "variable = [\"total_precipitation\"]\n",
    "statistic = \"daily_maximum\"\n",
    "time_zone = \"utc-05:00\"  # must be lowercase\n",
    "frequency = \"1_hourly\"\n",
    "area = [45, -95, 5, -65]\n",
    "days_all = [\n",
    "    \"01\", \"02\", \"03\", \"04\", \"05\", \"06\",\n",
    "    \"07\", \"08\", \"09\", \"10\", \"11\", \"12\",\n",
    "    \"13\", \"14\", \"15\", \"16\", \"17\", \"18\",\n",
    "    \"19\", \"20\", \"21\", \"22\", \"23\", \"24\",\n",
    "    \"25\", \"26\", \"27\", \"28\", \"29\", \"30\", \"31\"\n",
    "]\n",
    "months_all = [\"01\", \"02\", \"03\", \"04\", \"05\", \"06\", \"07\", \"08\", \"09\", \"10\", \"11\", \"12\"]\n",
    "months_to_july = [\"01\", \"02\", \"03\", \"04\", \"05\", \"06\", \"07\"]\n",
    "\n",
    "output_dir = \"../data/raw/\"\n",
    "os.makedirs(output_dir, exist_ok=True)\n",
    "\n",
    "for year in range(2015, 2026):\n",
    "    year_str = str(year)\n",
    "\n",
    "    if year == 2025:\n",
    "        months = months_to_july\n",
    "    else:\n",
    "        months = months_all\n",
    "\n",
    "    filename = os.path.join(output_dir, f\"era5_total_precipitation_daily_{year_str}.nc\")\n",
    "\n",
    "    if os.path.exists(filename):\n",
    "        print(f\"File already exists: {filename}\")\n",
    "        continue\n",
    "\n",
    "    print(f\"Requesting data for {year}...\")\n",
    "\n",
    "    request = {\n",
    "        \"product_type\": \"reanalysis\",\n",
    "        \"variable\": variable,\n",
    "        \"year\": year_str,\n",
    "        \"month\": months,\n",
    "        \"day\": days_all,\n",
    "        \"daily_statistic\": statistic,\n",
    "        \"time_zone\": time_zone,\n",
    "        \"frequency\": frequency,\n",
    "        \"area\": area,\n",
    "        \"format\": \"netcdf\"\n",
    "    }\n",
    "\n",
    "    try:\n",
    "        client.retrieve(dataset, request).download(filename)\n",
    "        print(f\"Downloaded: {filename}\")\n",
    "    except Exception as e:\n",
    "        print(f\"Error for {year}: {e}\")\n"
   ]
  },
  {
   "cell_type": "code",
   "execution_count": 3,
   "id": "8de388b1",
   "metadata": {},
   "outputs": [
    {
     "name": "stderr",
     "output_type": "stream",
     "text": [
      "2025-08-11 11:17:07,953 INFO [2024-09-26T00:00:00] Watch our [Forum](https://forum.ecmwf.int/) for Announcements, news and other discussed topics.\n"
     ]
    },
    {
     "name": "stdout",
     "output_type": "stream",
     "text": [
      "Requesting data for 2010...\n"
     ]
    },
    {
     "name": "stderr",
     "output_type": "stream",
     "text": [
      "2025-08-11 11:17:08,969 INFO Request ID is 8ab3cf0a-459e-40e6-a3c0-0a21e56d841a\n",
      "2025-08-11 11:17:09,719 INFO status has been updated to accepted\n",
      "2025-08-11 11:29:35,785 INFO status has been updated to running\n",
      "2025-08-11 11:39:41,600 INFO status has been updated to successful\n",
      "                                                                                         \r"
     ]
    },
    {
     "name": "stdout",
     "output_type": "stream",
     "text": [
      "Downloaded: ../data/raw/era5_tmin_daily_2010.nc\n",
      "Requesting data for 2011...\n"
     ]
    },
    {
     "name": "stderr",
     "output_type": "stream",
     "text": [
      "2025-08-11 11:39:49,228 INFO Request ID is 219b21bb-8532-49f5-b53e-1bcbf22a100f\n",
      "2025-08-11 11:39:49,527 INFO status has been updated to accepted\n",
      "2025-08-11 11:40:04,684 INFO status has been updated to running\n",
      "2025-08-11 11:56:18,569 INFO status has been updated to successful\n",
      "                                                                                         \r"
     ]
    },
    {
     "name": "stdout",
     "output_type": "stream",
     "text": [
      "Downloaded: ../data/raw/era5_tmin_daily_2011.nc\n",
      "Requesting data for 2012...\n"
     ]
    },
    {
     "name": "stderr",
     "output_type": "stream",
     "text": [
      "2025-08-11 11:56:25,871 INFO Request ID is 5dcd7db5-7112-497a-bb09-d2eb6d54db13\n",
      "2025-08-11 11:56:26,187 INFO status has been updated to accepted\n",
      "2025-08-11 11:56:35,815 INFO status has been updated to running\n",
      "2025-08-11 12:06:51,823 INFO status has been updated to successful\n",
      "                                                                                         \r"
     ]
    },
    {
     "name": "stdout",
     "output_type": "stream",
     "text": [
      "Downloaded: ../data/raw/era5_tmin_daily_2012.nc\n",
      "Requesting data for 2013...\n"
     ]
    },
    {
     "name": "stderr",
     "output_type": "stream",
     "text": [
      "2025-08-11 12:06:59,207 INFO Request ID is c266821f-f5a7-45f5-bc48-99088d5c9a3a\n",
      "2025-08-11 12:06:59,614 INFO status has been updated to accepted\n",
      "2025-08-11 12:07:09,007 INFO status has been updated to running\n",
      "2025-08-11 12:19:26,122 INFO status has been updated to successful\n",
      "                                                                                         \r"
     ]
    },
    {
     "name": "stdout",
     "output_type": "stream",
     "text": [
      "Downloaded: ../data/raw/era5_tmin_daily_2013.nc\n",
      "Requesting data for 2014...\n"
     ]
    },
    {
     "name": "stderr",
     "output_type": "stream",
     "text": [
      "2025-08-11 12:19:36,360 INFO Request ID is 69a29107-9755-4368-9eae-e7ddb958ca69\n",
      "2025-08-11 12:19:36,691 INFO status has been updated to accepted\n",
      "2025-08-11 12:20:11,100 INFO status has been updated to running\n",
      "2025-08-11 12:28:01,678 INFO status has been updated to successful\n",
      "                                                                                         \r"
     ]
    },
    {
     "name": "stdout",
     "output_type": "stream",
     "text": [
      "Downloaded: ../data/raw/era5_tmin_daily_2014.nc\n",
      "Requesting data for 2015...\n"
     ]
    },
    {
     "name": "stderr",
     "output_type": "stream",
     "text": [
      "2025-08-11 12:28:18,210 INFO Request ID is 84fbfbd0-e644-41fe-a2bf-c24c4ff432f2\n",
      "2025-08-11 12:28:18,517 INFO status has been updated to accepted\n",
      "2025-08-11 12:29:10,355 INFO status has been updated to running\n",
      "2025-08-11 12:38:43,981 INFO status has been updated to successful\n",
      "                                                                                         \r"
     ]
    },
    {
     "name": "stdout",
     "output_type": "stream",
     "text": [
      "Downloaded: ../data/raw/era5_tmin_daily_2015.nc\n",
      "Requesting data for 2016...\n"
     ]
    },
    {
     "name": "stderr",
     "output_type": "stream",
     "text": [
      "2025-08-11 12:38:52,466 INFO Request ID is 360d4e4c-26f2-4bcf-b122-61c86342188d\n",
      "2025-08-11 12:38:52,771 INFO status has been updated to accepted\n",
      "2025-08-11 12:38:58,596 INFO status has been updated to running\n",
      "2025-08-11 12:47:17,153 INFO status has been updated to successful\n",
      "                                                                                         \r"
     ]
    },
    {
     "name": "stdout",
     "output_type": "stream",
     "text": [
      "Downloaded: ../data/raw/era5_tmin_daily_2016.nc\n",
      "Requesting data for 2017...\n"
     ]
    },
    {
     "name": "stderr",
     "output_type": "stream",
     "text": [
      "2025-08-11 12:47:25,061 INFO Request ID is 81361d08-902e-492d-a1a8-6736234b6688\n",
      "2025-08-11 12:47:25,364 INFO status has been updated to accepted\n",
      "2025-08-11 12:47:35,239 INFO status has been updated to running\n",
      "2025-08-11 12:57:51,542 INFO status has been updated to successful\n",
      "                                                                                         \r"
     ]
    },
    {
     "name": "stdout",
     "output_type": "stream",
     "text": [
      "Downloaded: ../data/raw/era5_tmin_daily_2017.nc\n",
      "Requesting data for 2018...\n"
     ]
    },
    {
     "name": "stderr",
     "output_type": "stream",
     "text": [
      "2025-08-11 12:57:59,809 INFO Request ID is de9cc525-4c15-4da2-a6f9-2179365d0ca6\n",
      "2025-08-11 12:58:00,118 INFO status has been updated to accepted\n",
      "2025-08-11 12:58:06,096 INFO status has been updated to running\n",
      "2025-08-11 13:06:24,991 INFO status has been updated to successful\n",
      "                                                                                         \r"
     ]
    },
    {
     "name": "stdout",
     "output_type": "stream",
     "text": [
      "Downloaded: ../data/raw/era5_tmin_daily_2018.nc\n",
      "Requesting data for 2019...\n"
     ]
    },
    {
     "name": "stderr",
     "output_type": "stream",
     "text": [
      "2025-08-11 13:06:32,586 INFO Request ID is f1129003-60c2-4301-8683-3e4c68de258d\n",
      "2025-08-11 13:06:32,897 INFO status has been updated to accepted\n",
      "2025-08-11 13:06:47,966 INFO status has been updated to running\n",
      "2025-08-11 13:06:55,879 INFO status has been updated to accepted\n",
      "2025-08-11 13:07:07,595 INFO status has been updated to running\n",
      "2025-08-11 13:14:57,987 INFO status has been updated to successful\n",
      "                                                                                         \r"
     ]
    },
    {
     "name": "stdout",
     "output_type": "stream",
     "text": [
      "Downloaded: ../data/raw/era5_tmin_daily_2019.nc\n",
      "Requesting data for 2020...\n"
     ]
    },
    {
     "name": "stderr",
     "output_type": "stream",
     "text": [
      "2025-08-11 13:15:05,095 INFO Request ID is 35160648-ffee-43c4-86e4-452ef3e6c3e7\n",
      "2025-08-11 13:15:05,416 INFO status has been updated to accepted\n",
      "2025-08-11 13:15:14,841 INFO status has been updated to running\n",
      "2025-08-11 13:23:30,787 INFO status has been updated to successful\n",
      "                                                                                         \r"
     ]
    },
    {
     "name": "stdout",
     "output_type": "stream",
     "text": [
      "Downloaded: ../data/raw/era5_tmin_daily_2020.nc\n",
      "Requesting data for 2021...\n"
     ]
    },
    {
     "name": "stderr",
     "output_type": "stream",
     "text": [
      "2025-08-11 13:23:37,609 INFO Request ID is de4b824c-cdde-47fb-b9af-08eb36138ba8\n",
      "2025-08-11 13:23:37,914 INFO status has been updated to accepted\n",
      "2025-08-11 13:23:44,042 INFO status has been updated to running\n",
      "Recovering from connection error [('Connection aborted.', TimeoutError(60, 'Operation timed out'))], attempt 1 of 500\n",
      "Retrying in 120 seconds\n",
      "2025-08-11 14:51:21,228 INFO status has been updated to successful\n",
      "                                                                                         \r"
     ]
    },
    {
     "name": "stdout",
     "output_type": "stream",
     "text": [
      "Downloaded: ../data/raw/era5_tmin_daily_2021.nc\n",
      "Requesting data for 2022...\n"
     ]
    },
    {
     "name": "stderr",
     "output_type": "stream",
     "text": [
      "2025-08-11 14:51:31,437 INFO Request ID is 7e2c5d57-cd39-4b7b-bc6e-bf63c61f1ca3\n",
      "2025-08-11 14:51:31,783 INFO status has been updated to accepted\n",
      "2025-08-11 14:51:37,587 INFO status has been updated to running\n",
      "2025-08-11 14:51:41,970 INFO status has been updated to accepted\n",
      "2025-08-11 14:51:55,286 INFO status has been updated to running\n",
      "2025-08-11 14:59:57,132 INFO status has been updated to successful\n",
      "                                                                                         \r"
     ]
    },
    {
     "name": "stdout",
     "output_type": "stream",
     "text": [
      "Downloaded: ../data/raw/era5_tmin_daily_2022.nc\n",
      "Requesting data for 2023...\n"
     ]
    },
    {
     "name": "stderr",
     "output_type": "stream",
     "text": [
      "2025-08-11 15:00:05,010 INFO Request ID is ec799536-dc2a-47cf-a526-ae4a42a6d29e\n",
      "2025-08-11 15:00:05,368 INFO status has been updated to accepted\n",
      "2025-08-11 15:00:11,184 INFO status has been updated to running\n",
      "2025-08-11 15:10:31,425 INFO status has been updated to successful\n",
      "                                                                                         \r"
     ]
    },
    {
     "name": "stdout",
     "output_type": "stream",
     "text": [
      "Downloaded: ../data/raw/era5_tmin_daily_2023.nc\n",
      "Requesting data for 2024...\n"
     ]
    },
    {
     "name": "stderr",
     "output_type": "stream",
     "text": [
      "2025-08-11 15:10:39,336 INFO Request ID is 1cc6d60b-7ee1-486b-9cfc-4dea2fe87aa3\n",
      "2025-08-11 15:10:39,632 INFO status has been updated to accepted\n",
      "2025-08-11 15:10:54,574 INFO status has been updated to running\n",
      "2025-08-11 15:21:04,827 INFO status has been updated to successful\n",
      "                                                                                         \r"
     ]
    },
    {
     "name": "stdout",
     "output_type": "stream",
     "text": [
      "Downloaded: ../data/raw/era5_tmin_daily_2024.nc\n",
      "Requesting data for 2025...\n"
     ]
    },
    {
     "name": "stderr",
     "output_type": "stream",
     "text": [
      "2025-08-11 15:21:12,919 INFO Request ID is 9d8ee2c6-deaf-41bd-a02b-2e6455e0f0d0\n",
      "2025-08-11 15:21:13,256 INFO status has been updated to accepted\n",
      "2025-08-11 15:21:22,857 INFO status has been updated to running\n",
      "2025-08-11 15:21:28,240 INFO status has been updated to accepted\n",
      "2025-08-11 15:21:36,210 INFO status has been updated to running\n",
      "2025-08-11 15:27:37,141 INFO status has been updated to successful\n",
      "                                                                                         "
     ]
    },
    {
     "name": "stdout",
     "output_type": "stream",
     "text": [
      "Downloaded: ../data/raw/era5_tmin_daily_2025.nc\n"
     ]
    },
    {
     "name": "stderr",
     "output_type": "stream",
     "text": [
      "\r"
     ]
    }
   ],
   "source": [
    "import cdsapi\n",
    "import os\n",
    "\n",
    "client = cdsapi.Client()\n",
    "\n",
    "dataset = \"derived-era5-single-levels-daily-statistics\"\n",
    "\n",
    "\n",
    "variable = [\"2m_temperature\"]\n",
    "statistic = \"daily_minimum\"\n",
    "time_zone = \"utc-05:00\"  # must be lowercase\n",
    "frequency = \"1_hourly\"\n",
    "area = [45, -95, 5, -65]\n",
    "days_all = [\n",
    "    \"01\", \"02\", \"03\", \"04\", \"05\", \"06\",\n",
    "    \"07\", \"08\", \"09\", \"10\", \"11\", \"12\",\n",
    "    \"13\", \"14\", \"15\", \"16\", \"17\", \"18\",\n",
    "    \"19\", \"20\", \"21\", \"22\", \"23\", \"24\",\n",
    "    \"25\", \"26\", \"27\", \"28\", \"29\", \"30\", \"31\"\n",
    "]\n",
    "months_all = [\"01\", \"02\", \"03\", \"04\", \"05\", \"06\", \"07\", \"08\", \"09\", \"10\", \"11\", \"12\"]\n",
    "months_to_july = [\"01\", \"02\", \"03\", \"04\", \"05\", \"06\", \"07\"]\n",
    "\n",
    "output_dir = \"../data/raw/\"\n",
    "os.makedirs(output_dir, exist_ok=True)\n",
    "\n",
    "for year in range(2010, 2026):\n",
    "    year_str = str(year)\n",
    "\n",
    "    if year == 2025:\n",
    "        months = months_to_july\n",
    "    else:\n",
    "        months = months_all\n",
    "\n",
    "    filename = os.path.join(output_dir, f\"era5_tmin_daily_{year_str}.nc\")\n",
    "\n",
    "    if os.path.exists(filename):\n",
    "        print(f\"File already exists: {filename}\")\n",
    "        continue\n",
    "\n",
    "    print(f\"Requesting data for {year}...\")\n",
    "\n",
    "    request = {\n",
    "        \"product_type\": \"reanalysis\",\n",
    "        \"variable\": variable,\n",
    "        \"year\": year_str,\n",
    "        \"month\": months,\n",
    "        \"day\": days_all,\n",
    "        \"daily_statistic\": statistic,\n",
    "        \"time_zone\": time_zone,\n",
    "        \"frequency\": frequency,\n",
    "        \"area\": area,\n",
    "        \"format\": \"netcdf\"\n",
    "    }\n",
    "\n",
    "    try:\n",
    "        client.retrieve(dataset, request).download(filename)\n",
    "        print(f\"Downloaded: {filename}\")\n",
    "    except Exception as e:\n",
    "        print(f\"Error for {year}: {e}\")\n"
   ]
  }
 ],
 "metadata": {
  "kernelspec": {
   "display_name": "climate-gdal-env",
   "language": "python",
   "name": "python3"
  },
  "language_info": {
   "codemirror_mode": {
    "name": "ipython",
    "version": 3
   },
   "file_extension": ".py",
   "mimetype": "text/x-python",
   "name": "python",
   "nbconvert_exporter": "python",
   "pygments_lexer": "ipython3",
   "version": "3.9.22"
  }
 },
 "nbformat": 4,
 "nbformat_minor": 5
}
