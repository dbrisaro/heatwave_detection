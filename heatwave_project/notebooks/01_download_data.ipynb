{
 "cells": [
  {
   "cell_type": "code",
   "execution_count": 4,
   "id": "f5fb5c10",
   "metadata": {},
   "outputs": [
    {
     "data": {
      "text/plain": [
       "'\\nThis routine downloads ERA5 daily maximum temperature data using the Climate Data Store (CDS) API for the study region (5°N-45°N, 95°W-65°W).\\n\\nDaniela Risaro\\nJuly 2025\\n'"
      ]
     },
     "execution_count": 4,
     "metadata": {},
     "output_type": "execute_result"
    }
   ],
   "source": [
    "'''\n",
    "This routine downloads ERA5 daily maximum temperature data using the Climate Data Store (CDS) API for the study region (5°N-45°N, 95°W-65°W).\n",
    "\n",
    "Daniela Risaro\n",
    "July 2025\n",
    "'''"
   ]
  },
  {
   "cell_type": "markdown",
   "id": "a6a54fc1",
   "metadata": {
    "vscode": {
     "languageId": "raw"
    }
   },
   "source": [
    "# Descarga de datos ERA5\n",
    "\n",
    "Este notebook descarga datos de temperatura máxima diaria del ERA5 usando la API de CDS (Climate Data Store)\n"
   ]
  },
  {
   "cell_type": "code",
   "execution_count": 7,
   "id": "0feb06a7",
   "metadata": {},
   "outputs": [
    {
     "name": "stdout",
     "output_type": "stream",
     "text": [
      "Requesting data for 2003...\n"
     ]
    },
    {
     "name": "stderr",
     "output_type": "stream",
     "text": [
      "2025-10-15 12:21:57,817 INFO Request ID is e8ab6d2a-7023-474a-b040-e760de00ac10\n",
      "2025-10-15 12:21:58,119 INFO status has been updated to accepted\n",
      "2025-10-15 12:24:53,975 INFO status has been updated to running\n",
      "2025-10-15 12:36:30,121 INFO status has been updated to successful\n",
      "                                                                                         "
     ]
    },
    {
     "name": "stdout",
     "output_type": "stream",
     "text": [
      "Downloaded: ../data/raw/era5_tmax_daily_2003_area_6N_-74W_-34S_-33E.nc\n"
     ]
    },
    {
     "name": "stderr",
     "output_type": "stream",
     "text": [
      "\r"
     ]
    }
   ],
   "source": [
    "import cdsapi\n",
    "import os\n",
    "\n",
    "client = cdsapi.Client()\n",
    "\n",
    "dataset = \"derived-era5-single-levels-daily-statistics\"\n",
    "\n",
    "\n",
    "variable = [\"2m_temperature\"]\n",
    "statistic = \"daily_maximum\"\n",
    "time_zone = \"utc-03:00\"  # must be lowercase\n",
    "frequency = \"1_hourly\"\n",
    "\n",
    "area = [6, -74, -34, -33]        # brazil\n",
    "\n",
    "#area = [45, -95, 5, -65]     # south america N, W, S, E\n",
    "days_all = [\n",
    "    \"01\", \"02\", \"03\", \"04\", \"05\", \"06\",\n",
    "    \"07\", \"08\", \"09\", \"10\", \"11\", \"12\",\n",
    "    \"13\", \"14\", \"15\", \"16\", \"17\", \"18\",\n",
    "    \"19\", \"20\", \"21\", \"22\", \"23\", \"24\",\n",
    "    \"25\", \"26\", \"27\", \"28\", \"29\", \"30\", \"31\"\n",
    "]\n",
    "months_all = [\"01\", \"02\", \"03\", \"04\", \"05\", \"06\", \"07\", \"08\", \"09\", \"10\", \"11\", \"12\"]\n",
    "months_to_july = [\"01\", \"02\", \"03\", \"04\", \"05\", \"06\", \"07\"]\n",
    "\n",
    "output_dir = \"../data/raw/\"\n",
    "os.makedirs(output_dir, exist_ok=True)\n",
    "\n",
    "for year in range(2003, 2004):\n",
    "    year_str = str(year)\n",
    "\n",
    "    if year == 2025:\n",
    "        months = months_to_july\n",
    "    else:\n",
    "        months = months_all\n",
    "\n",
    "    filename = os.path.join(output_dir, f\"era5_tmax_daily_{year_str}_area_{area[0]}N_{area[1]}W_{area[2]}S_{area[3]}E.nc\")\n",
    "\n",
    "    if os.path.exists(filename):\n",
    "        print(f\"File already exists: {filename}\")\n",
    "        continue\n",
    "\n",
    "    print(f\"Requesting data for {year}...\")\n",
    "\n",
    "    request = {\n",
    "        \"product_type\": \"reanalysis\",\n",
    "        \"variable\": variable,\n",
    "        \"year\": year_str,\n",
    "        \"month\": months,\n",
    "        \"day\": days_all,\n",
    "        \"daily_statistic\": statistic,\n",
    "        \"time_zone\": time_zone,\n",
    "        \"frequency\": frequency,\n",
    "        \"area\": area,\n",
    "        \"format\": \"netcdf\"\n",
    "    }\n",
    "\n",
    "    try:\n",
    "        client.retrieve(dataset, request).download(filename)\n",
    "        print(f\"Downloaded: {filename}\")\n",
    "    except Exception as e:\n",
    "        print(f\"Error for {year}: {e}\")\n"
   ]
  },
  {
   "cell_type": "code",
   "execution_count": 4,
   "id": "50af1412",
   "metadata": {},
   "outputs": [
    {
     "name": "stderr",
     "output_type": "stream",
     "text": [
      "2025-08-22 12:36:20,195 INFO [2024-09-26T00:00:00] Watch our [Forum](https://forum.ecmwf.int/) for Announcements, news and other discussed topics.\n"
     ]
    },
    {
     "name": "stdout",
     "output_type": "stream",
     "text": [
      "Requesting data for 2000...\n"
     ]
    },
    {
     "name": "stderr",
     "output_type": "stream",
     "text": [
      "2025-08-22 12:36:20,650 INFO Request ID is 7a849c8b-df0f-4266-b441-255db146faa1\n",
      "2025-08-22 12:36:20,896 INFO status has been updated to accepted\n",
      "2025-08-22 12:36:26,026 INFO status has been updated to running\n",
      "2025-08-22 12:50:40,947 INFO status has been updated to successful\n",
      "                                                                                         \r"
     ]
    },
    {
     "name": "stdout",
     "output_type": "stream",
     "text": [
      "Downloaded: ../data/raw/era5_total_precipitation_daily_2000_area_45N_-95W_5S_-65E.nc\n",
      "Requesting data for 2001...\n"
     ]
    },
    {
     "name": "stderr",
     "output_type": "stream",
     "text": [
      "2025-08-22 12:50:43,862 INFO Request ID is cc03787e-e65f-4ea8-8b70-e2f8bd095d2d\n",
      "2025-08-22 12:50:43,955 INFO status has been updated to accepted\n",
      "2025-08-22 12:50:52,513 INFO status has been updated to running\n",
      "2025-08-22 13:03:03,740 INFO status has been updated to successful\n",
      "                                                                                         \r"
     ]
    },
    {
     "name": "stdout",
     "output_type": "stream",
     "text": [
      "Downloaded: ../data/raw/era5_total_precipitation_daily_2001_area_45N_-95W_5S_-65E.nc\n",
      "Requesting data for 2002...\n"
     ]
    },
    {
     "name": "stderr",
     "output_type": "stream",
     "text": [
      "2025-08-22 13:03:06,626 INFO Request ID is 71bbc404-7b92-4d2b-8c4e-997f9d548610\n",
      "2025-08-22 13:03:06,708 INFO status has been updated to accepted\n",
      "2025-08-22 13:03:20,467 INFO status has been updated to running\n",
      "2025-08-22 13:17:27,066 INFO status has been updated to successful\n",
      "                                                                                         \r"
     ]
    },
    {
     "name": "stdout",
     "output_type": "stream",
     "text": [
      "Downloaded: ../data/raw/era5_total_precipitation_daily_2002_area_45N_-95W_5S_-65E.nc\n",
      "Requesting data for 2003...\n"
     ]
    },
    {
     "name": "stderr",
     "output_type": "stream",
     "text": [
      "2025-08-22 13:17:30,625 INFO Request ID is 64bc738a-b6a7-457f-b481-6538f95bd5db\n",
      "2025-08-22 13:17:30,712 INFO status has been updated to accepted\n",
      "2025-08-22 13:17:39,334 INFO status has been updated to running\n",
      "2025-08-22 13:31:51,765 INFO status has been updated to successful\n",
      "                                                                                         \r"
     ]
    },
    {
     "name": "stdout",
     "output_type": "stream",
     "text": [
      "Downloaded: ../data/raw/era5_total_precipitation_daily_2003_area_45N_-95W_5S_-65E.nc\n",
      "Requesting data for 2004...\n"
     ]
    },
    {
     "name": "stderr",
     "output_type": "stream",
     "text": [
      "2025-08-22 13:31:54,508 INFO Request ID is faabcfb2-0049-42e1-804d-55ed79c89374\n",
      "2025-08-22 13:31:54,595 INFO status has been updated to accepted\n",
      "2025-08-22 13:32:03,103 INFO status has been updated to running\n",
      "2025-08-22 13:46:16,643 INFO status has been updated to successful\n",
      "                                                                                         \r"
     ]
    },
    {
     "name": "stdout",
     "output_type": "stream",
     "text": [
      "Downloaded: ../data/raw/era5_total_precipitation_daily_2004_area_45N_-95W_5S_-65E.nc\n",
      "Requesting data for 2005...\n"
     ]
    },
    {
     "name": "stderr",
     "output_type": "stream",
     "text": [
      "2025-08-22 13:46:20,446 INFO Request ID is f443266c-7435-4aed-84e6-f0238a2173f8\n",
      "2025-08-22 13:46:20,525 INFO status has been updated to accepted\n",
      "2025-08-22 13:46:28,981 INFO status has been updated to running\n",
      "2025-08-22 14:00:40,897 INFO status has been updated to successful\n",
      "                                                                                         \r"
     ]
    },
    {
     "name": "stdout",
     "output_type": "stream",
     "text": [
      "Downloaded: ../data/raw/era5_total_precipitation_daily_2005_area_45N_-95W_5S_-65E.nc\n",
      "Requesting data for 2006...\n"
     ]
    },
    {
     "name": "stderr",
     "output_type": "stream",
     "text": [
      "2025-08-22 14:00:44,136 INFO Request ID is 9e1dfc6b-cc82-4035-b1b5-9ba9cdb0a577\n",
      "2025-08-22 14:00:44,223 INFO status has been updated to accepted\n",
      "2025-08-22 14:00:57,887 INFO status has been updated to running\n",
      "2025-08-22 14:15:04,503 INFO status has been updated to successful\n",
      "                                                                                         \r"
     ]
    },
    {
     "name": "stdout",
     "output_type": "stream",
     "text": [
      "Downloaded: ../data/raw/era5_total_precipitation_daily_2006_area_45N_-95W_5S_-65E.nc\n",
      "Requesting data for 2007...\n"
     ]
    },
    {
     "name": "stderr",
     "output_type": "stream",
     "text": [
      "2025-08-22 14:15:08,173 INFO Request ID is 69044b80-5524-4bd9-92bf-74d77c2dbb38\n",
      "2025-08-22 14:15:08,318 INFO status has been updated to accepted\n",
      "2025-08-22 14:15:22,114 INFO status has been updated to running\n",
      "2025-08-22 14:29:28,664 INFO status has been updated to successful\n",
      "                                                                                         \r"
     ]
    },
    {
     "name": "stdout",
     "output_type": "stream",
     "text": [
      "Downloaded: ../data/raw/era5_total_precipitation_daily_2007_area_45N_-95W_5S_-65E.nc\n",
      "Requesting data for 2008...\n"
     ]
    },
    {
     "name": "stderr",
     "output_type": "stream",
     "text": [
      "2025-08-22 14:29:35,409 INFO Request ID is b9f98cd6-d027-4e69-906f-cb6136f366a5\n",
      "2025-08-22 14:29:35,604 INFO status has been updated to accepted\n",
      "2025-08-22 14:29:49,234 INFO status has been updated to running\n",
      "2025-08-22 14:44:37,539 INFO status has been updated to successful\n",
      "                                                                                         \r"
     ]
    },
    {
     "name": "stdout",
     "output_type": "stream",
     "text": [
      "Downloaded: ../data/raw/era5_total_precipitation_daily_2008_area_45N_-95W_5S_-65E.nc\n",
      "Requesting data for 2009...\n"
     ]
    },
    {
     "name": "stderr",
     "output_type": "stream",
     "text": [
      "2025-08-22 14:44:40,559 INFO Request ID is 5add3695-5ac5-47b1-96a7-5861b3de6037\n",
      "2025-08-22 14:44:40,652 INFO status has been updated to accepted\n",
      "2025-08-22 14:44:54,494 INFO status has been updated to running\n",
      "2025-08-22 14:59:00,863 INFO status has been updated to successful\n",
      "                                                                                         \r"
     ]
    },
    {
     "name": "stdout",
     "output_type": "stream",
     "text": [
      "Downloaded: ../data/raw/era5_total_precipitation_daily_2009_area_45N_-95W_5S_-65E.nc\n",
      "Requesting data for 2010...\n"
     ]
    },
    {
     "name": "stderr",
     "output_type": "stream",
     "text": [
      "2025-08-22 14:59:04,862 INFO Request ID is 003ca5c6-bb5d-4926-b593-c93cc524dca9\n",
      "2025-08-22 14:59:04,946 INFO status has been updated to accepted\n",
      "2025-08-22 14:59:26,528 INFO status has been updated to running\n",
      "2025-08-22 15:11:24,903 INFO status has been updated to successful\n",
      "                                                                                         \r"
     ]
    },
    {
     "name": "stdout",
     "output_type": "stream",
     "text": [
      "Downloaded: ../data/raw/era5_total_precipitation_daily_2010_area_45N_-95W_5S_-65E.nc\n",
      "Requesting data for 2011...\n"
     ]
    },
    {
     "name": "stderr",
     "output_type": "stream",
     "text": [
      "2025-08-22 15:11:27,799 INFO Request ID is 8f004df0-b859-4a38-bc3f-c279b7dbd06f\n",
      "2025-08-22 15:11:27,908 INFO status has been updated to accepted\n",
      "2025-08-22 15:11:41,921 INFO status has been updated to running\n",
      "2025-08-22 15:25:48,245 INFO status has been updated to successful\n",
      "                                                                                         \r"
     ]
    },
    {
     "name": "stdout",
     "output_type": "stream",
     "text": [
      "Downloaded: ../data/raw/era5_total_precipitation_daily_2011_area_45N_-95W_5S_-65E.nc\n",
      "Requesting data for 2012...\n"
     ]
    },
    {
     "name": "stderr",
     "output_type": "stream",
     "text": [
      "2025-08-22 15:25:51,186 INFO Request ID is 38da3b3f-2f34-4448-99fc-a969e66e4e63\n",
      "2025-08-22 15:25:51,268 INFO status has been updated to accepted\n",
      "2025-08-22 15:25:59,880 INFO status has been updated to running\n",
      "2025-08-22 15:38:11,980 INFO status has been updated to successful\n",
      "                                                                                         \r"
     ]
    },
    {
     "name": "stdout",
     "output_type": "stream",
     "text": [
      "Downloaded: ../data/raw/era5_total_precipitation_daily_2012_area_45N_-95W_5S_-65E.nc\n",
      "Requesting data for 2013...\n"
     ]
    },
    {
     "name": "stderr",
     "output_type": "stream",
     "text": [
      "2025-08-22 15:38:54,425 INFO Request ID is 919b7e27-bb79-4ab1-b65b-1d4ab15311c5\n",
      "2025-08-22 15:38:54,525 INFO status has been updated to accepted\n",
      "2025-08-22 15:39:08,421 INFO status has been updated to running\n",
      "2025-08-22 15:51:14,570 INFO status has been updated to successful\n",
      "                                                                                         \r"
     ]
    },
    {
     "name": "stdout",
     "output_type": "stream",
     "text": [
      "Downloaded: ../data/raw/era5_total_precipitation_daily_2013_area_45N_-95W_5S_-65E.nc\n",
      "Requesting data for 2014...\n"
     ]
    },
    {
     "name": "stderr",
     "output_type": "stream",
     "text": [
      "2025-08-22 15:51:17,934 INFO Request ID is cbbc4062-83c1-4982-a903-2c2f384daa26\n",
      "2025-08-22 15:51:18,015 INFO status has been updated to accepted\n",
      "2025-08-22 15:51:31,670 INFO status has been updated to running\n",
      "Recovering from connection error [('Connection aborted.', TimeoutError(60, 'Operation timed out'))], attempt 1 of 500\n",
      "Retrying in 120 seconds\n",
      "2025-08-22 16:06:58,633 INFO status has been updated to successful\n",
      "                                                                                         "
     ]
    },
    {
     "name": "stdout",
     "output_type": "stream",
     "text": [
      "Downloaded: ../data/raw/era5_total_precipitation_daily_2014_area_45N_-95W_5S_-65E.nc\n"
     ]
    },
    {
     "name": "stderr",
     "output_type": "stream",
     "text": [
      "\r"
     ]
    }
   ],
   "source": [
    "## in this part of the code i will download another variable, which is humidty or precipitation. \n",
    "import cdsapi\n",
    "import os\n",
    "\n",
    "client = cdsapi.Client()\n",
    "\n",
    "dataset = \"derived-era5-single-levels-daily-statistics\"\n",
    "\n",
    "\n",
    "variable = [\"total_precipitation\"]\n",
    "statistic = \"daily_maximum\"\n",
    "time_zone = \"utc-05:00\"  # must be lowercase\n",
    "frequency = \"1_hourly\"\n",
    "area = [45, -95, 5, -65]\n",
    "days_all = [\n",
    "    \"01\", \"02\", \"03\", \"04\", \"05\", \"06\",\n",
    "    \"07\", \"08\", \"09\", \"10\", \"11\", \"12\",\n",
    "    \"13\", \"14\", \"15\", \"16\", \"17\", \"18\",\n",
    "    \"19\", \"20\", \"21\", \"22\", \"23\", \"24\",\n",
    "    \"25\", \"26\", \"27\", \"28\", \"29\", \"30\", \"31\"\n",
    "]\n",
    "months_all = [\"01\", \"02\", \"03\", \"04\", \"05\", \"06\", \"07\", \"08\", \"09\", \"10\", \"11\", \"12\"]\n",
    "months_to_july = [\"01\", \"02\", \"03\", \"04\", \"05\", \"06\", \"07\"]\n",
    "\n",
    "output_dir = \"../data/raw/\"\n",
    "os.makedirs(output_dir, exist_ok=True)\n",
    "\n",
    "for year in range(2000, 2015):\n",
    "    year_str = str(year)\n",
    "\n",
    "    if year == 2025:\n",
    "        months = months_to_july\n",
    "    else:\n",
    "        months = months_all\n",
    "\n",
    "    filename = os.path.join(output_dir, f\"era5_total_precipitation_daily_{year_str}_area_{area[0]}N_{area[1]}W_{area[2]}S_{area[3]}E.nc\")\n",
    "\n",
    "    if os.path.exists(filename):\n",
    "        print(f\"File already exists: {filename}\")\n",
    "        continue\n",
    "\n",
    "    print(f\"Requesting data for {year}...\")\n",
    "\n",
    "    request = {\n",
    "        \"product_type\": \"reanalysis\",\n",
    "        \"variable\": variable,\n",
    "        \"year\": year_str,\n",
    "        \"month\": months,\n",
    "        \"day\": days_all,\n",
    "        \"daily_statistic\": statistic,\n",
    "        \"time_zone\": time_zone,\n",
    "        \"frequency\": frequency,\n",
    "        \"area\": area,\n",
    "        \"format\": \"netcdf\"\n",
    "    }\n",
    "\n",
    "    try:\n",
    "        client.retrieve(dataset, request).download(filename)\n",
    "        print(f\"Downloaded: {filename}\")\n",
    "    except Exception as e:\n",
    "        print(f\"Error for {year}: {e}\")\n"
   ]
  },
  {
   "cell_type": "code",
   "execution_count": null,
   "id": "8de388b1",
   "metadata": {},
   "outputs": [
    {
     "name": "stderr",
     "output_type": "stream",
     "text": [
      "2025-08-20 12:09:27,203 INFO [2024-09-26T00:00:00] Watch our [Forum](https://forum.ecmwf.int/) for Announcements, news and other discussed topics.\n"
     ]
    },
    {
     "name": "stdout",
     "output_type": "stream",
     "text": [
      "Requesting data for 1980...\n"
     ]
    },
    {
     "name": "stderr",
     "output_type": "stream",
     "text": [
      "2025-08-20 12:09:28,151 INFO Request ID is ec9b0581-3e0a-4635-8aaf-27b1a52c39d8\n",
      "2025-08-20 12:09:28,290 INFO status has been updated to accepted\n",
      "2025-08-20 12:10:18,512 INFO status has been updated to running\n",
      "2025-08-20 12:34:26,531 INFO status has been updated to successful\n",
      "                                                                                         \r"
     ]
    },
    {
     "name": "stdout",
     "output_type": "stream",
     "text": [
      "Downloaded: ../data/raw/era5_tmin_daily_1980.nc\n",
      "Requesting data for 1981...\n"
     ]
    },
    {
     "name": "stderr",
     "output_type": "stream",
     "text": [
      "2025-08-20 12:34:31,904 INFO Request ID is 57aa026f-60e5-45f6-a3db-5d57722df84f\n",
      "2025-08-20 12:34:32,056 INFO status has been updated to accepted\n",
      "2025-08-20 12:35:14,562 INFO status has been updated to running\n",
      "Recovering from connection error [HTTPSConnectionPool(host='cds.climate.copernicus.eu', port=443): Read timed out. (read timeout=60)], attempt 1 of 500\n",
      "Retrying in 120 seconds\n",
      "2025-08-20 12:50:56,250 INFO status has been updated to successful\n",
      "                                                                                         \r"
     ]
    },
    {
     "name": "stdout",
     "output_type": "stream",
     "text": [
      "Downloaded: ../data/raw/era5_tmin_daily_1981.nc\n",
      "Requesting data for 1982...\n"
     ]
    },
    {
     "name": "stderr",
     "output_type": "stream",
     "text": [
      "2025-08-20 12:51:14,150 INFO Request ID is 1829f100-d520-4c83-ae93-1cde57a30758\n",
      "2025-08-20 12:51:14,225 INFO status has been updated to accepted\n",
      "2025-08-20 12:51:47,762 INFO status has been updated to running\n",
      "2025-08-20 13:05:35,996 INFO status has been updated to successful\n",
      "                                                                                        \r"
     ]
    },
    {
     "name": "stdout",
     "output_type": "stream",
     "text": [
      "Downloaded: ../data/raw/era5_tmin_daily_1982.nc\n",
      "Requesting data for 1983...\n"
     ]
    },
    {
     "name": "stderr",
     "output_type": "stream",
     "text": [
      "2025-08-20 13:06:03,897 INFO Request ID is 345e171e-2ac9-4531-826d-be8257b25a73\n",
      "2025-08-20 13:06:03,979 INFO status has been updated to accepted\n",
      "2025-08-20 13:08:56,320 INFO status has been updated to running\n",
      "2025-08-20 13:24:24,994 INFO status has been updated to successful\n",
      "                                                                                         \r"
     ]
    },
    {
     "name": "stdout",
     "output_type": "stream",
     "text": [
      "Downloaded: ../data/raw/era5_tmin_daily_1983.nc\n",
      "Requesting data for 1984...\n"
     ]
    },
    {
     "name": "stderr",
     "output_type": "stream",
     "text": [
      "2025-08-20 13:24:34,939 INFO Request ID is 5c8562a6-974e-4f2f-9c32-1fd5b52749f8\n",
      "2025-08-20 13:24:35,023 INFO status has been updated to accepted\n",
      "2025-08-20 13:24:49,128 INFO status has been updated to running\n",
      "2025-08-20 13:38:55,923 INFO status has been updated to successful\n",
      "                                                                                         \r"
     ]
    },
    {
     "name": "stdout",
     "output_type": "stream",
     "text": [
      "Downloaded: ../data/raw/era5_tmin_daily_1984.nc\n",
      "Requesting data for 1985...\n"
     ]
    },
    {
     "name": "stderr",
     "output_type": "stream",
     "text": [
      "2025-08-20 13:39:18,536 INFO Request ID is 4dfb1a8e-fcc5-4a2e-8208-548061cf3f7c\n",
      "2025-08-20 13:39:18,614 INFO status has been updated to accepted\n",
      "2025-08-20 13:43:38,456 INFO status has been updated to running\n",
      "2025-08-20 13:57:40,893 INFO status has been updated to successful\n",
      "                                                                                         \r"
     ]
    },
    {
     "name": "stdout",
     "output_type": "stream",
     "text": [
      "Downloaded: ../data/raw/era5_tmin_daily_1985.nc\n",
      "Requesting data for 1986...\n"
     ]
    },
    {
     "name": "stderr",
     "output_type": "stream",
     "text": [
      "2025-08-20 13:57:51,611 INFO Request ID is 325d52e7-f02d-46c2-a210-372fef7b4814\n",
      "2025-08-20 13:57:51,699 INFO status has been updated to accepted\n",
      "2025-08-20 14:02:11,945 INFO status has been updated to running\n",
      "2025-08-20 14:18:14,352 INFO status has been updated to successful\n",
      "                                                                                        \r"
     ]
    },
    {
     "name": "stdout",
     "output_type": "stream",
     "text": [
      "Downloaded: ../data/raw/era5_tmin_daily_1986.nc\n",
      "Requesting data for 1987...\n"
     ]
    },
    {
     "name": "stderr",
     "output_type": "stream",
     "text": [
      "2025-08-20 14:18:23,902 INFO Request ID is 92198508-ec27-45e2-ab01-d4ce9fb6cd04\n",
      "2025-08-20 14:18:23,976 INFO status has been updated to accepted\n",
      "2025-08-20 14:24:43,683 INFO status has been updated to running\n",
      "2025-08-20 14:36:45,818 INFO status has been updated to successful\n",
      "                                                                                         \r"
     ]
    },
    {
     "name": "stdout",
     "output_type": "stream",
     "text": [
      "Downloaded: ../data/raw/era5_tmin_daily_1987.nc\n",
      "Requesting data for 1988...\n"
     ]
    },
    {
     "name": "stderr",
     "output_type": "stream",
     "text": [
      "2025-08-20 14:37:04,828 INFO Request ID is 911deb67-943b-4150-8236-e5afea399814\n",
      "2025-08-20 14:37:04,934 INFO status has been updated to accepted\n",
      "2025-08-20 14:51:26,488 INFO status has been updated to running\n",
      "2025-08-20 15:05:28,513 INFO status has been updated to successful\n",
      "                                                                                         \r"
     ]
    },
    {
     "name": "stdout",
     "output_type": "stream",
     "text": [
      "Downloaded: ../data/raw/era5_tmin_daily_1988.nc\n",
      "Requesting data for 1989...\n"
     ]
    },
    {
     "name": "stderr",
     "output_type": "stream",
     "text": [
      "2025-08-20 15:05:31,054 INFO Request ID is a5498ec6-34fa-4e3d-80e3-4b13b5f430ce\n",
      "2025-08-20 15:05:31,131 INFO status has been updated to accepted\n",
      "2025-08-20 15:13:50,556 INFO status has been updated to running\n",
      "2025-08-20 15:27:52,677 INFO status has been updated to successful\n",
      "                                                                                         "
     ]
    },
    {
     "name": "stdout",
     "output_type": "stream",
     "text": [
      "Downloaded: ../data/raw/era5_tmin_daily_1989.nc\n"
     ]
    },
    {
     "name": "stderr",
     "output_type": "stream",
     "text": [
      "\r"
     ]
    }
   ],
   "source": [
    "import cdsapi\n",
    "import os\n",
    "\n",
    "client = cdsapi.Client()\n",
    "\n",
    "dataset = \"derived-era5-single-levels-daily-statistics\"\n",
    "\n",
    "\n",
    "variable = [\"2m_temperature\"]\n",
    "statistic = \"daily_minimum\"\n",
    "time_zone = \"utc-05:00\"  # must be lowercase\n",
    "frequency = \"1_hourly\"\n",
    "area = [45, -95, 5, -65]\n",
    "days_all = [\n",
    "    \"01\", \"02\", \"03\", \"04\", \"05\", \"06\",\n",
    "    \"07\", \"08\", \"09\", \"10\", \"11\", \"12\",\n",
    "    \"13\", \"14\", \"15\", \"16\", \"17\", \"18\",\n",
    "    \"19\", \"20\", \"21\", \"22\", \"23\", \"24\",\n",
    "    \"25\", \"26\", \"27\", \"28\", \"29\", \"30\", \"31\"\n",
    "]\n",
    "months_all = [\"01\", \"02\", \"03\", \"04\", \"05\", \"06\", \"07\", \"08\", \"09\", \"10\", \"11\", \"12\"]\n",
    "months_to_july = [\"01\", \"02\", \"03\", \"04\", \"05\", \"06\", \"07\"]\n",
    "\n",
    "output_dir = \"../data/raw/\"\n",
    "os.makedirs(output_dir, exist_ok=True)\n",
    "\n",
    "for year in range(1980, 1990):\n",
    "    year_str = str(year)\n",
    "\n",
    "    if year == 2025:\n",
    "        months = months_to_july\n",
    "    else:\n",
    "        months = months_all\n",
    "\n",
    "    filename = os.path.join(output_dir, f\"era5_tmin_daily_{year_str}_area_{area[0]}N_{area[1]}W_{area[2]}S_{area[3]}E.nc\")\n",
    "\n",
    "    if os.path.exists(filename):\n",
    "        print(f\"File already exists: {filename}\")\n",
    "        continue\n",
    "\n",
    "    print(f\"Requesting data for {year}...\")\n",
    "\n",
    "    request = {\n",
    "        \"product_type\": \"reanalysis\",\n",
    "        \"variable\": variable,\n",
    "        \"year\": year_str,\n",
    "        \"month\": months,\n",
    "        \"day\": days_all,\n",
    "        \"daily_statistic\": statistic,\n",
    "        \"time_zone\": time_zone,\n",
    "        \"frequency\": frequency,\n",
    "        \"area\": area,\n",
    "        \"format\": \"netcdf\"\n",
    "    }\n",
    "\n",
    "    try:\n",
    "        client.retrieve(dataset, request).download(filename)\n",
    "        print(f\"Downloaded: {filename}\")\n",
    "    except Exception as e:\n",
    "        print(f\"Error for {year}: {e}\")\n"
   ]
  }
 ],
 "metadata": {
  "kernelspec": {
   "display_name": "climate-gdal-env",
   "language": "python",
   "name": "python3"
  },
  "language_info": {
   "codemirror_mode": {
    "name": "ipython",
    "version": 3
   },
   "file_extension": ".py",
   "mimetype": "text/x-python",
   "name": "python",
   "nbconvert_exporter": "python",
   "pygments_lexer": "ipython3",
   "version": "3.9.22"
  }
 },
 "nbformat": 4,
 "nbformat_minor": 5
}
