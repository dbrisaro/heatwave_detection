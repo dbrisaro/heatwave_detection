{
 "cells": [
  {
   "cell_type": "code",
   "execution_count": 108,
   "id": "f0d9dd9a",
   "metadata": {},
   "outputs": [],
   "source": [
    "from block_bootstrap_simulation_1v import run_bootstrap_simulation_single\n",
    "import pandas as pd\n",
    "import numpy as np\n",
    "import matplotlib.pyplot as plt\n"
   ]
  },
  {
   "cell_type": "code",
   "execution_count": 109,
   "id": "60d5e381",
   "metadata": {},
   "outputs": [
    {
     "name": "stdout",
     "output_type": "stream",
     "text": [
      "T0 (en días): 2.1859190434837874\n",
      "Tamaño de bloque sugerido (días): 3\n"
     ]
    }
   ],
   "source": [
    "data = pd.read_csv(\"../data/processed/tmax2m_sp_point.csv\", parse_dates=[\"date\"])\n",
    "data = data.set_index(\"date\")\n",
    "\n",
    "y = data['tmax2m'].values\n",
    "y = y - np.nanmean(y)\n",
    "\n",
    "n = len(y)\n",
    "autocorr = np.array([np.corrcoef(y[:-lag], y[lag:])[0,1] for lag in range(1, n//2)])\n",
    "\n",
    "weights = 1 - np.arange(1, len(autocorr)+1) / len(autocorr)\n",
    "T0 = 1 + 2 * np.sum(weights * autocorr)\n",
    "\n",
    "print(\"T0 (en días):\", T0)\n",
    "\n",
    "block_size = int(np.ceil(T0))\n",
    "print(\"Tamaño de bloque sugerido (días):\", block_size)"
   ]
  },
  {
   "cell_type": "code",
   "execution_count": 110,
   "id": "5458d130",
   "metadata": {},
   "outputs": [
    {
     "name": "stderr",
     "output_type": "stream",
     "text": [
      "100%|██████████| 1000/1000 [00:00<00:00, 420313.06it/s]"
     ]
    },
    {
     "name": "stdout",
     "output_type": "stream",
     "text": [
      "✅ Completed 1000 simulations for tmax2m\n"
     ]
    },
    {
     "name": "stderr",
     "output_type": "stream",
     "text": [
      "\n"
     ]
    }
   ],
   "source": [
    "n_simulations = 1000\n",
    "window_days = 10\n",
    "results_dir = '../data/processed/bootstrap_tmax2m/'\n",
    "\n",
    "run_bootstrap_simulation_single(\n",
    "    data=data,\n",
    "    variable=\"tmax2m\",\n",
    "    n_simulations=n_simulations,\n",
    "    block_length=block_size,\n",
    "    window_days=window_days,\n",
    "    output_dir=results_dir\n",
    ")"
   ]
  },
  {
   "cell_type": "code",
   "execution_count": 111,
   "id": "4faef610",
   "metadata": {},
   "outputs": [],
   "source": [
    "aep_temp = pd.read_csv(f'{results_dir}aep_curve_tmax2m.csv')\n",
    "sim_daily_temp = pd.read_csv(f'{results_dir}daily_simulations_tmax2m.csv')\n",
    "summary_stats = pd.read_csv(f'{results_dir}summary_stats_tmax2m.csv')\n"
   ]
  },
  {
   "cell_type": "code",
   "execution_count": 112,
   "id": "22383147",
   "metadata": {},
   "outputs": [],
   "source": [
    "n_sims = len([col for col in sim_daily_temp.columns if col.startswith('sim_')])\n",
    "\n",
    "sim_dfs = []\n",
    "\n",
    "for i in range(n_sims):\n",
    "    sim_num = f'{i:04d}'\n",
    "    temp_col = f'sim_{sim_num}'\n",
    "    sim_data = pd.DataFrame({\n",
    "        'temperature': sim_daily_temp[temp_col]\n",
    "    })\n",
    "    sim_data['simulation'] = i\n",
    "    sim_dfs.append(sim_data)\n",
    "\n",
    "sim_df_reshaped = pd.concat(sim_dfs, axis=0).reset_index(drop=True)\n"
   ]
  },
  {
   "cell_type": "code",
   "execution_count": null,
   "id": "2a0872dc",
   "metadata": {},
   "outputs": [
    {
     "name": "stdout",
     "output_type": "stream",
     "text": [
      "threshold_temp: 32\n",
      "Porcentaje de días con evento: 1.21%\n",
      "Porcentaje de días con evento (verano): 1.49%\n"
     ]
    }
   ],
   "source": [
    "fraction_brave_riders = 0.6\n",
    "fraction_hw_wage = 3\n",
    "\n",
    "total_riders = 20000\n",
    "normal_wage = 1\n",
    "\n",
    "brave_riders = int(total_riders * fraction_brave_riders)\n",
    "no_brave_riders = total_riders - brave_riders\n",
    "\n",
    "hw_wage = normal_wage * fraction_hw_wage\n",
    "\n",
    "daily_loss = np.abs(total_riders * normal_wage - (brave_riders * hw_wage))\n",
    "\n",
    "threshold_temperature = 32\n",
    "print(\"threshold_temp:\", threshold_temperature)\n",
    "\n",
    "sim_df_reshaped['cond_temp'] = (sim_df_reshaped['temperature'] > threshold_temperature).astype(int)\n",
    "\n",
    "def _mark_runs(series, min_len=3):\n",
    "    cond = series.astype(bool)\n",
    "    runs = (cond != cond.shift()).cumsum()\n",
    "    run_sizes = cond.groupby(runs).transform('size')\n",
    "    return ((cond) & (run_sizes >= min_len)).astype(int)\n",
    "\n",
    "sim_df_reshaped['event'] = sim_df_reshaped.groupby('simulation', group_keys=False)['cond_temp'].apply(_mark_runs)\n",
    "sim_df_reshaped['loss'] = daily_loss * sim_df_reshaped['event']\n",
    "\n",
    "total_dias = len(sim_df_reshaped)\n",
    "frac_event = sim_df_reshaped['event'].sum() / total_dias\n",
    "print(f\"Porcentaje de días con evento: {frac_event:.2%}\")\n",
    "\n",
    "sim_df_reshaped['day_of_year'] = np.tile(np.arange(1, 366), len(sim_df_reshaped['simulation'].unique()))\n",
    "\n",
    "# de noviembre a marzo incluido\n",
    "summer_days = list(range(305, 366)) + list(range(1, 91))\n",
    "sim_df_summer = sim_df_reshaped[sim_df_reshaped['day_of_year'].isin(summer_days)].copy()\n",
    "\n",
    "sim_df_summer['cond_temp_summer'] = (sim_df_summer['temperature'] > threshold_temperature).astype(int)\n",
    "sim_df_summer['event_summer'] = sim_df_summer.groupby('simulation', group_keys=False)['cond_temp_summer'].apply(_mark_runs)\n",
    "sim_df_summer['loss_summer'] = daily_loss * sim_df_summer['event_summer']\n",
    "\n",
    "total_days_summer = len(sim_df_summer)\n",
    "frac_event_summer = sim_df_summer['event_summer'].sum() / total_days_summer\n",
    "print(f\"Porcentaje de días con evento (verano): {frac_event_summer:.2%}\")\n"
   ]
  },
  {
   "cell_type": "code",
   "execution_count": null,
   "id": "1db824df",
   "metadata": {},
   "outputs": [
    {
     "name": "stdout",
     "output_type": "stream",
     "text": [
      "\n",
      "Promedio de eventos y pérdidas anuales por simulación:\n",
      "           Media  Mediana  Máximo  Mínimo\n",
      "event      4.404      3.0      20       0\n",
      "loss   70464.000  48000.0  320000       0\n"
     ]
    }
   ],
   "source": [
    "summary_by_sim = sim_df_reshaped.groupby('simulation').agg({\n",
    "    'event': 'sum',\n",
    "    'loss': 'sum'\n",
    "})\n",
    "\n",
    "summary_stats = summary_by_sim.mean().to_frame(\"Media\")\n",
    "summary_stats[\"Mediana\"] = summary_by_sim.median()\n",
    "summary_stats[\"Máximo\"] = summary_by_sim.max()\n",
    "summary_stats[\"Mínimo\"] = summary_by_sim.min()\n",
    "\n",
    "print(\"\\nPromedio de eventos y pérdidas anuales por simulación:\")\n",
    "print(summary_stats)\n"
   ]
  },
  {
   "cell_type": "code",
   "execution_count": null,
   "id": "588ea861",
   "metadata": {},
   "outputs": [],
   "source": [
    "# --- Curva AEP usando \"loss\" ---\n",
    "def build_aep(loss_series, label):\n",
    "    s = loss_series.sort_values(ascending=False).reset_index(drop=True)\n",
    "    n = len(s)\n",
    "    ex_prob = [(i)/(n+1)*100 for i in range(1, n+1)]    # 100/(n+1) es la probabilidad de excedencia\n",
    "    return pd.DataFrame({'Loss': s, 'Exceedance_Probability': ex_prob, 'Type': label})\n",
    "\n",
    "aep_temp = build_aep(summary_by_sim['loss'], 'event')\n"
   ]
  },
  {
   "cell_type": "code",
   "execution_count": null,
   "id": "7d158551",
   "metadata": {},
   "outputs": [
    {
     "data": {
      "text/plain": [
       "<matplotlib.legend.Legend at 0x17f658f20>"
      ]
     },
     "execution_count": 106,
     "metadata": {},
     "output_type": "execute_result"
    },
    {
     "data": {
      "image/png": "[encoded data removed]",
      "text/plain": [
       "<Figure size 1000x600 with 1 Axes>"
      ]
     },
     "metadata": {},
     "output_type": "display_data"
    }
   ],
   "source": [
    "fig = plt.figure(figsize=(10,6))\n",
    "ax = plt.axes([0.05, 0.05, 0.9, 0.9])\n",
    "ax.plot(aep_temp['Loss'], aep_temp['Exceedance_Probability'], label=\"AEP Temperatura\")\n",
    "ax.grid(True)\n",
    "ax.set_ylabel('Exceedance Probability (%)')\n",
    "ax.set_xlabel('Annual Loss')\n",
    "ax.set_title('Curvas AEP por tipo de evento')\n",
    "ax.legend()\n"
   ]
  }
 ],
 "metadata": {
  "kernelspec": {
   "display_name": "climate-gdal-env",
   "language": "python",
   "name": "python3"
  },
  "language_info": {
   "codemirror_mode": {
    "name": "ipython",
    "version": 3
   },
   "file_extension": ".py",
   "mimetype": "text/x-python",
   "name": "python",
   "nbconvert_exporter": "python",
   "pygments_lexer": "ipython3",
   "version": "3.12.12"
  }
 },
 "nbformat": 4,
 "nbformat_minor": 5
}
