{
 "cells": [
  {
   "cell_type": "code",
   "execution_count": 1,
   "id": "26e8427c",
   "metadata": {},
   "outputs": [
    {
     "name": "stdout",
     "output_type": "stream",
     "text": [
      "\n",
      "Años disponibles: 2015-2025\n"
     ]
    }
   ],
   "source": [
    "'''\n",
    "This routine computes daily precipitation percentiles (80th, 90th, and 95th) using the data available in the raw folder.\n",
    "\n",
    "Daniela Risaro\n",
    "July 2025\n",
    "'''\n",
    "\n",
    "import os \n",
    "import numpy as np\n",
    "import pandas as pd\n",
    "import xarray as xr\n",
    "import matplotlib.pyplot as plt\n",
    "import cartopy.crs as ccrs\n",
    "import cartopy.feature as cfeature\n",
    "\n",
    "data_dir = \"../data/raw/\"\n",
    "output_dir = \"../data/processed/\"\n",
    "\n",
    "os.makedirs(output_dir, exist_ok=True)\n",
    "\n",
    "## read files \n",
    "files = sorted([file for file in os.listdir(data_dir) if file.endswith(\".nc\") and \"precipitation\" in file])\n",
    "years_from_files = sorted([int(file.split(\"_\")[-1].split(\".\")[0]) for file in files])\n",
    "\n",
    "print(f\"\\nAños disponibles: {min(years_from_files)}-{max(years_from_files)}\")\n",
    "\n",
    "\n",
    "base_files = [f for f in files if min(years_from_files) <= int(f.split(\"_\")[-1].split(\".\")[0]) <= max(years_from_files)]\n",
    "datasets = [xr.open_dataset(data_dir + f).squeeze(\"number\", drop=True) if \"number\" in xr.open_dataset(data_dir + f).dims else xr.open_dataset(data_dir + f) for f in base_files]\n",
    "\n",
    "combined = xr.concat(datasets, dim=\"valid_time\")\n",
    "combined[\"valid_time\"] = pd.to_datetime(combined[\"valid_time\"].values)\n",
    "\n",
    "## compute percentiles \n",
    "combined[\"doy\"] = combined[\"valid_time\"].dt.dayofyear\n"
   ]
  },
  {
   "cell_type": "code",
   "execution_count": 6,
   "id": "300fd6e7",
   "metadata": {},
   "outputs": [],
   "source": [
    "precipitation = combined[\"tp\"]\n",
    "precipitation = precipitation.assign_coords(doy=(\"valid_time\", combined[\"doy\"].values))\n",
    "\n",
    "percentiles = [80, 90, 95]\n",
    "percentile_vars = {}\n",
    "\n",
    "for p in percentiles:\n",
    "    pps = (\n",
    "        precipitation\n",
    "        .groupby(\"doy\")\n",
    "        .reduce(np.percentile, q=p, dim=\"valid_time\")\n",
    "        .squeeze()\n",
    "    )\n",
    "    pps.name = f\"tp_p{p}\"\n",
    "    pps.attrs[\"long_name\"] = f\"{p}th percentile of daily total precipitation\"\n",
    "    pps.attrs[\"units\"] = \"mm\"\n",
    "    percentile_vars[f\"tp_p{p}\"] = pps\n",
    "\n",
    "tp_mean = (\n",
    "    precipitation\n",
    "    .groupby(\"doy\")\n",
    "    .mean(dim=\"valid_time\")\n",
    "    .squeeze()\n",
    ")\n",
    "tp_mean.name = \"tp_mean\"\n",
    "tp_mean.attrs[\"long_name\"] = \"Mean daily total precipitation\"\n",
    "tp_mean.attrs[\"units\"] = \"mm\"\n",
    "\n",
    "percentile_vars[\"tp_mean\"] = tp_mean\n",
    "\n",
    "ds_out = xr.Dataset(percentile_vars)\n",
    "ds_out.attrs[\"period\"] = f\"{min(years_from_files)}-{max(years_from_files)}\"\n",
    "ds_out.attrs[\"source\"] = \"ERA5 daily statistics (analysis), downloaded via CDS API\"\n",
    "\n",
    "out_path = os.path.join(output_dir, f\"tp_mean_and_percentiles_{min(years_from_files)}_{max(years_from_files)}.nc\")\n",
    "ds_out.to_netcdf(out_path)"
   ]
  },
  {
   "cell_type": "code",
   "execution_count": null,
   "id": "22b8638e",
   "metadata": {},
   "outputs": [],
   "source": []
  }
 ],
 "metadata": {
  "kernelspec": {
   "display_name": "climate-gdal-env",
   "language": "python",
   "name": "python3"
  },
  "language_info": {
   "codemirror_mode": {
    "name": "ipython",
    "version": 3
   },
   "file_extension": ".py",
   "mimetype": "text/x-python",
   "name": "python",
   "nbconvert_exporter": "python",
   "pygments_lexer": "ipython3",
   "version": "3.9.22"
  }
 },
 "nbformat": 4,
 "nbformat_minor": 5
}
