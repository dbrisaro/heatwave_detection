{
 "cells": [
  {
   "cell_type": "code",
   "execution_count": null,
   "id": "b34fc4ed",
   "metadata": {},
   "outputs": [],
   "source": [
    "'''\n",
    "This routine creates the project directory structure including data/raw, data/processed, notebooks, scripts, config, and outputs folders.\n",
    "\n",
    "Daniela Risaro\n",
    "July 2025\n",
    "'''\n"
   ]
  },
  {
   "cell_type": "code",
   "execution_count": 1,
   "id": "372f768b",
   "metadata": {},
   "outputs": [
    {
     "name": "stdout",
     "output_type": "stream",
     "text": [
      "Carpeta creada (o ya existente): heatwave_project/data/raw\n",
      "Carpeta creada (o ya existente): heatwave_project/data/processed\n",
      "Carpeta creada (o ya existente): heatwave_project/notebooks\n",
      "Carpeta creada (o ya existente): heatwave_project/scripts\n",
      "Carpeta creada (o ya existente): heatwave_project/config\n",
      "Carpeta creada (o ya existente): heatwave_project/outputs/events_percentile\n",
      "Carpeta creada (o ya existente): heatwave_project/outputs/events_climanom\n"
     ]
    }
   ],
   "source": [
    "import os\n",
    "\n",
    "def create_project_structure(base_path=\"heatwave_project\"):\n",
    "    folders = [\n",
    "        \"data/raw\",\n",
    "        \"data/processed\",\n",
    "        \"notebooks\",\n",
    "        \"scripts\",\n",
    "        \"config\",\n",
    "        \"outputs/events_percentile\",\n",
    "        \"outputs/events_climanom\",\n",
    "    ]\n",
    "    \n",
    "    for folder in folders:\n",
    "        path = os.path.join(base_path, folder)\n",
    "        os.makedirs(path, exist_ok=True)\n",
    "        print(f\"Carpeta creada (o ya existente): {path}\")\n",
    "\n",
    "if __name__ == \"__main__\":\n",
    "    create_project_structure()\n"
   ]
  }
 ],
 "metadata": {
  "kernelspec": {
   "display_name": "climate-gdal-env",
   "language": "python",
   "name": "python3"
  },
  "language_info": {
   "codemirror_mode": {
    "name": "ipython",
    "version": 3
   },
   "file_extension": ".py",
   "mimetype": "text/x-python",
   "name": "python",
   "nbconvert_exporter": "python",
   "pygments_lexer": "ipython3",
   "version": "3.9.22"
  }
 },
 "nbformat": 4,
 "nbformat_minor": 5
}
